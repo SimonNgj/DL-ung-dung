{
 "cells": [
  {
   "cell_type": "markdown",
   "metadata": {},
   "source": [
    "## Human activities classification "
   ]
  },
  {
   "cell_type": "markdown",
   "metadata": {},
   "source": [
    "#### Import libraries "
   ]
  },
  {
   "cell_type": "code",
   "execution_count": 1,
   "metadata": {},
   "outputs": [
    {
     "name": "stderr",
     "output_type": "stream",
     "text": [
      "Using TensorFlow backend.\n"
     ]
    }
   ],
   "source": [
    "import numpy as np\n",
    "import pandas as pd\n",
    "import tensorflow as tf\n",
    "import seaborn as sns\n",
    "from scipy import stats\n",
    "from sklearn import metrics\n",
    "from sklearn.model_selection import train_test_split\n",
    "from sklearn.metrics import classification_report\n",
    "from sklearn.metrics import confusion_matrix\n",
    "import matplotlib.pyplot as plt\n",
    "from keras import regularizers\n",
    "from keras.layers import Input, Dense, GlobalAveragePooling1D, MaxPooling1D\n",
    "from keras.callbacks import ModelCheckpoint\n",
    "from keras.layers import Conv1D, BatchNormalization, Activation, concatenate\n",
    "from keras.layers import LSTM, Flatten\n",
    "from keras.models import Model\n",
    "from keras.optimizers import Adam\n",
    "from keras.utils import to_categorical\n",
    "import keras.backend as K\n",
    "from keras.callbacks import Callback\n",
    "from keras.callbacks import EarlyStopping\n",
    "from keras.layers import TimeDistributed\n",
    "from keras.layers import Bidirectional, Embedding\n",
    "from keras.models import Sequential"
   ]
  },
  {
   "cell_type": "markdown",
   "metadata": {},
   "source": [
    "#### Hyper-parameters "
   ]
  },
  {
   "cell_type": "code",
   "execution_count": 51,
   "metadata": {},
   "outputs": [],
   "source": [
    "RANDOM_SEED = 13\n",
    "\n",
    "# Data preprocessing\n",
    "TIME_STEP = 100\n",
    "\n",
    "# Model\n",
    "N_CLASSES = 6\n",
    "N_FEATURES = 3  # x-acceleration, y-acceleration, z-acceleration\n",
    "\n",
    "# Hyperparameters\n",
    "N_LSTM_LAYERS = 2\n",
    "N_EPOCHS = 15\n",
    "L2_LOSS = 0.0015\n",
    "LEARNING_RATE = 0.0025\n",
    "\n",
    "# Hyperparameters optimized\n",
    "SEGMENT_TIME_SIZE = 180\n",
    "N_HIDDEN_NEURONS = 30\n",
    "BATCH_SIZE = 32"
   ]
  },
  {
   "cell_type": "markdown",
   "metadata": {},
   "source": [
    "#### Load data \n",
    "Each datum is a 3-dimensional time series (x,y and z directions of accelerometer)"
   ]
  },
  {
   "cell_type": "code",
   "execution_count": 52,
   "metadata": {},
   "outputs": [],
   "source": [
    "##################################################\n",
    "### GLOBAL VARIABLES\n",
    "##################################################\n",
    "COLUMN_NAMES = [\n",
    "    'user',\n",
    "    'activity',\n",
    "    'timestamp',\n",
    "    'x-axis',\n",
    "    'y-axis',\n",
    "    'z-axis'\n",
    "]\n",
    "\n",
    "LABELS = [\n",
    "    'Downstairs',\n",
    "    'Jogging',\n",
    "    'Sitting',\n",
    "    'Standing',\n",
    "    'Upstairs',\n",
    "    'Walking'\n",
    "]\n",
    "\n",
    "DATA_PATH = 'data/WISDM_ar_v1.1_raw.txt'\n",
    "data = pd.read_csv(DATA_PATH, header=None, names=COLUMN_NAMES)\n",
    "data['z-axis'].replace({';': ''}, regex=True, inplace=True)\n",
    "data = data.dropna()"
   ]
  },
  {
   "cell_type": "markdown",
   "metadata": {},
   "source": [
    "#### Define model \n",
    "Model 1 is inspired by Paper: \"Convolutional Neural Networks for human activity recognition using mobile sensors\", Ming Zeng, et al, 2014\n",
    "https://ieeexplore.ieee.org/document/7026300"
   ]
  },
  {
   "cell_type": "code",
   "execution_count": 53,
   "metadata": {},
   "outputs": [],
   "source": [
    "def model1():\n",
    "    ip1 = Input(shape=(SEGMENT_TIME_SIZE, 1), name='input1')\n",
    "    \n",
    "    x1 = Conv1D(32, 7, padding='same', kernel_initializer='he_uniform')(ip1)\n",
    "    x1 = BatchNormalization()(x1)\n",
    "    x1 = Activation('relu')(x1)\n",
    "\n",
    "    x1 = Conv1D(64, 5, padding='same', kernel_initializer='he_uniform')(x1)\n",
    "    x1 = BatchNormalization()(x1)\n",
    "    x1 = Activation('relu')(x1)\n",
    "    x1 = GlobalAveragePooling1D()(x1)\n",
    "    \n",
    "    ip2 = Input(shape=(SEGMENT_TIME_SIZE, 1), name='input2')\n",
    "    x2 = Conv1D(32, 7, padding='same', kernel_initializer='he_uniform')(ip2)\n",
    "    x2 = BatchNormalization()(x2)\n",
    "    x2 = Activation('relu')(x2)\n",
    "\n",
    "    x2 = Conv1D(64, 5, padding='same', kernel_initializer='he_uniform')(x2)\n",
    "    x2 = BatchNormalization()(x2)\n",
    "    x2 = Activation('relu')(x2)\n",
    "    x2 = GlobalAveragePooling1D()(x2)\n",
    "    \n",
    "    ip3 = Input(shape=(SEGMENT_TIME_SIZE, 1), name='input3')\n",
    "    x3 = Conv1D(32, 7, padding='same', kernel_initializer='he_uniform')(ip3)\n",
    "    x3 = BatchNormalization()(x3)\n",
    "    x3 = Activation('relu')(x3)\n",
    "\n",
    "    x3 = Conv1D(64, 5, padding='same', kernel_initializer='he_uniform')(x3)\n",
    "    x3 = BatchNormalization()(x3)\n",
    "    x3 = Activation('relu')(x3)\n",
    "    x3 = GlobalAveragePooling1D()(x3)\n",
    "    \n",
    "    x = concatenate([x1, x2, x3])\n",
    "\n",
    "    out = Dense(N_CLASSES, kernel_regularizer=regularizers.l2(0.001), activation='softmax')(x)\n",
    "\n",
    "    model = Model([ip1,ip2,ip3], out)\n",
    "    model.summary()\n",
    "    return model"
   ]
  },
  {
   "cell_type": "markdown",
   "metadata": {},
   "source": [
    "#### Training "
   ]
  },
  {
   "cell_type": "code",
   "execution_count": 54,
   "metadata": {},
   "outputs": [
    {
     "name": "stdout",
     "output_type": "stream",
     "text": [
      "Convoluted data shape:  (10981, 180, 3)\n",
      "Labels shape: (10981, 6)\n",
      "X train size:  6588\n",
      "X test size:  2197\n",
      "X val size:  2196\n",
      "y train size:  6588\n",
      "y test size:  2197\n",
      "y val size:  2196\n",
      "__________________________________________________________________________________________________\n",
      "Layer (type)                    Output Shape         Param #     Connected to                     \n",
      "==================================================================================================\n",
      "input1 (InputLayer)             (None, 180, 1)       0                                            \n",
      "__________________________________________________________________________________________________\n",
      "input2 (InputLayer)             (None, 180, 1)       0                                            \n",
      "__________________________________________________________________________________________________\n",
      "input3 (InputLayer)             (None, 180, 1)       0                                            \n",
      "__________________________________________________________________________________________________\n",
      "conv1d_55 (Conv1D)              (None, 180, 32)      256         input1[0][0]                     \n",
      "__________________________________________________________________________________________________\n",
      "conv1d_57 (Conv1D)              (None, 180, 32)      256         input2[0][0]                     \n",
      "__________________________________________________________________________________________________\n",
      "conv1d_59 (Conv1D)              (None, 180, 32)      256         input3[0][0]                     \n",
      "__________________________________________________________________________________________________\n",
      "batch_normalization_55 (BatchNo (None, 180, 32)      128         conv1d_55[0][0]                  \n",
      "__________________________________________________________________________________________________\n",
      "batch_normalization_57 (BatchNo (None, 180, 32)      128         conv1d_57[0][0]                  \n",
      "__________________________________________________________________________________________________\n",
      "batch_normalization_59 (BatchNo (None, 180, 32)      128         conv1d_59[0][0]                  \n",
      "__________________________________________________________________________________________________\n",
      "activation_55 (Activation)      (None, 180, 32)      0           batch_normalization_55[0][0]     \n",
      "__________________________________________________________________________________________________\n",
      "activation_57 (Activation)      (None, 180, 32)      0           batch_normalization_57[0][0]     \n",
      "__________________________________________________________________________________________________\n",
      "activation_59 (Activation)      (None, 180, 32)      0           batch_normalization_59[0][0]     \n",
      "__________________________________________________________________________________________________\n",
      "conv1d_56 (Conv1D)              (None, 180, 64)      10304       activation_55[0][0]              \n",
      "__________________________________________________________________________________________________\n",
      "conv1d_58 (Conv1D)              (None, 180, 64)      10304       activation_57[0][0]              \n",
      "__________________________________________________________________________________________________\n",
      "conv1d_60 (Conv1D)              (None, 180, 64)      10304       activation_59[0][0]              \n",
      "__________________________________________________________________________________________________\n",
      "batch_normalization_56 (BatchNo (None, 180, 64)      256         conv1d_56[0][0]                  \n",
      "__________________________________________________________________________________________________\n",
      "batch_normalization_58 (BatchNo (None, 180, 64)      256         conv1d_58[0][0]                  \n",
      "__________________________________________________________________________________________________\n",
      "batch_normalization_60 (BatchNo (None, 180, 64)      256         conv1d_60[0][0]                  \n",
      "__________________________________________________________________________________________________\n",
      "activation_56 (Activation)      (None, 180, 64)      0           batch_normalization_56[0][0]     \n",
      "__________________________________________________________________________________________________\n",
      "activation_58 (Activation)      (None, 180, 64)      0           batch_normalization_58[0][0]     \n",
      "__________________________________________________________________________________________________\n",
      "activation_60 (Activation)      (None, 180, 64)      0           batch_normalization_60[0][0]     \n",
      "__________________________________________________________________________________________________\n",
      "global_average_pooling1d_28 (Gl (None, 64)           0           activation_56[0][0]              \n",
      "__________________________________________________________________________________________________\n",
      "global_average_pooling1d_29 (Gl (None, 64)           0           activation_58[0][0]              \n",
      "__________________________________________________________________________________________________\n",
      "global_average_pooling1d_30 (Gl (None, 64)           0           activation_60[0][0]              \n",
      "__________________________________________________________________________________________________\n",
      "concatenate_10 (Concatenate)    (None, 192)          0           global_average_pooling1d_28[0][0]\n",
      "                                                                 global_average_pooling1d_29[0][0]\n",
      "                                                                 global_average_pooling1d_30[0][0]\n",
      "__________________________________________________________________________________________________\n",
      "dense_10 (Dense)                (None, 6)            1158        concatenate_10[0][0]             \n",
      "==================================================================================================\n",
      "Total params: 33,990\n",
      "Trainable params: 33,414\n",
      "Non-trainable params: 576\n",
      "__________________________________________________________________________________________________\n",
      "Train on 6588 samples, validate on 2196 samples\n",
      "Epoch 1/15\n",
      " - 12s - loss: 0.6064 - acc: 0.7949 - val_loss: 0.4900 - val_acc: 0.8078\n",
      "\n",
      "Epoch 00001: val_acc improved from -inf to 0.80783, saving model to ./weights_simon.h5\n",
      "Epoch 2/15\n",
      " - 10s - loss: 0.4246 - acc: 0.8540 - val_loss: 0.3570 - val_acc: 0.8916\n",
      "\n",
      "Epoch 00002: val_acc improved from 0.80783 to 0.89162, saving model to ./weights_simon.h5\n",
      "Epoch 3/15\n",
      " - 10s - loss: 0.3433 - acc: 0.8927 - val_loss: 0.3156 - val_acc: 0.8994\n",
      "\n",
      "Epoch 00003: val_acc improved from 0.89162 to 0.89936, saving model to ./weights_simon.h5\n",
      "Epoch 4/15\n",
      " - 10s - loss: 0.3034 - acc: 0.9085 - val_loss: 0.3519 - val_acc: 0.8939\n",
      "\n",
      "Epoch 00004: val_acc did not improve from 0.89936\n",
      "Epoch 5/15\n",
      " - 10s - loss: 0.2753 - acc: 0.9206 - val_loss: 0.3456 - val_acc: 0.8989\n",
      "\n",
      "Epoch 00005: val_acc did not improve from 0.89936\n",
      "Epoch 6/15\n",
      " - 11s - loss: 0.2632 - acc: 0.9256 - val_loss: 0.2375 - val_acc: 0.9281\n",
      "\n",
      "Epoch 00006: val_acc improved from 0.89936 to 0.92805, saving model to ./weights_simon.h5\n",
      "Epoch 7/15\n",
      " - 11s - loss: 0.2379 - acc: 0.9309 - val_loss: 0.3774 - val_acc: 0.8775\n",
      "\n",
      "Epoch 00007: val_acc did not improve from 0.92805\n",
      "Epoch 8/15\n",
      " - 11s - loss: 0.2367 - acc: 0.9329 - val_loss: 0.2730 - val_acc: 0.9098\n",
      "\n",
      "Epoch 00008: val_acc did not improve from 0.92805\n",
      "Epoch 9/15\n",
      " - 11s - loss: 0.2154 - acc: 0.9411 - val_loss: 0.4759 - val_acc: 0.8224\n",
      "\n",
      "Epoch 00009: val_acc did not improve from 0.92805\n",
      "Epoch 10/15\n",
      " - 11s - loss: 0.2102 - acc: 0.9443 - val_loss: 0.2223 - val_acc: 0.9454\n",
      "\n",
      "Epoch 00010: val_acc improved from 0.92805 to 0.94536, saving model to ./weights_simon.h5\n",
      "Epoch 11/15\n",
      " - 11s - loss: 0.2075 - acc: 0.9447 - val_loss: 0.2207 - val_acc: 0.9454\n",
      "\n",
      "Epoch 00011: val_acc improved from 0.94536 to 0.94536, saving model to ./weights_simon.h5\n",
      "Epoch 12/15\n",
      " - 10s - loss: 0.2033 - acc: 0.9451 - val_loss: 0.4705 - val_acc: 0.8538\n",
      "\n",
      "Epoch 00012: val_acc did not improve from 0.94536\n",
      "Epoch 13/15\n",
      " - 10s - loss: 0.1995 - acc: 0.9467 - val_loss: 0.3567 - val_acc: 0.8780\n",
      "\n",
      "Epoch 00013: val_acc did not improve from 0.94536\n",
      "Epoch 14/15\n",
      " - 10s - loss: 0.1922 - acc: 0.9487 - val_loss: 0.2415 - val_acc: 0.9308\n",
      "\n",
      "Epoch 00014: val_acc did not improve from 0.94536\n",
      "Epoch 15/15\n",
      " - 10s - loss: 0.1856 - acc: 0.9549 - val_loss: 0.3966 - val_acc: 0.8807\n"
     ]
    },
    {
     "name": "stdout",
     "output_type": "stream",
     "text": [
      "\n",
      "Epoch 00015: val_acc did not improve from 0.94536\n"
     ]
    }
   ],
   "source": [
    "# DATA PREPROCESSING\n",
    "data_convoluted = []\n",
    "labels = []\n",
    "\n",
    "# Slide a \"SEGMENT_TIME_SIZE\" wide window with a step size of \"TIME_STEP\"\n",
    "for i in range(0, len(data) - SEGMENT_TIME_SIZE, TIME_STEP):\n",
    "    x = data['x-axis'].values[i: i + SEGMENT_TIME_SIZE]\n",
    "    y = data['y-axis'].values[i: i + SEGMENT_TIME_SIZE]\n",
    "    z = data['z-axis'].values[i: i + SEGMENT_TIME_SIZE]\n",
    "    data_convoluted.append([x, y, z])\n",
    "\n",
    "    # Label for a data window is the label that appears most commonly\n",
    "    label = stats.mode(data['activity'][i: i + SEGMENT_TIME_SIZE])[0][0]\n",
    "    labels.append(label)\n",
    "\n",
    "# Convert to numpy\n",
    "data_convoluted = np.asarray(data_convoluted, dtype=np.float32).transpose(0, 2, 1)\n",
    "\n",
    "# One-hot encoding\n",
    "labels = np.asarray(pd.get_dummies(labels), dtype=np.float32)\n",
    "print(\"Convoluted data shape: \", data_convoluted.shape)\n",
    "print(\"Labels shape:\", labels.shape)\n",
    "\n",
    "# SPLIT INTO TRAINING AND TEST SETS\n",
    "X_train1, X_test, y_train1, y_test = train_test_split(data_convoluted, labels, test_size=0.2, random_state=RANDOM_SEED)\n",
    "X_train, X_val, y_train, y_val = train_test_split(X_train1, y_train1, test_size=0.25, random_state=RANDOM_SEED)\n",
    "print(\"X train size: \", len(X_train))\n",
    "print(\"X test size: \", len(X_test))\n",
    "print(\"X val size: \", len(X_val))\n",
    "print(\"y train size: \", len(y_train))\n",
    "print(\"y test size: \", len(y_test))\n",
    "print(\"y val size: \", len(y_val))\n",
    "    \n",
    "######### Training #########\n",
    "weight_fn = \"./weights_simon.h5\"\n",
    "model_checkpoint = ModelCheckpoint(weight_fn, verbose=1, mode='max', monitor='val_acc', save_best_only=True, save_weights_only=True)\n",
    "stop = EarlyStopping(monitor='val_loss', patience=15)\n",
    "callback_list = [model_checkpoint, stop]\n",
    "optm = Adam(lr=LEARNING_RATE)\n",
    "\n",
    "model = model1()\n",
    "\n",
    "model.compile(optimizer=optm, loss='categorical_crossentropy', metrics=['accuracy'])\n",
    "history = model.fit([X_train[:,:,0:1],X_train[:,:,1:2],X_train[:,:,2:3]], y_train, batch_size=BATCH_SIZE, epochs=N_EPOCHS, \n",
    "                    callbacks = callback_list, verbose=2, validation_data=([X_val[:,:,0:1], X_val[:,:,1:2],X_val[:,:,2:3]], y_val))"
   ]
  },
  {
   "cell_type": "markdown",
   "metadata": {},
   "source": [
    "#### Prediction "
   ]
  },
  {
   "cell_type": "code",
   "execution_count": 55,
   "metadata": {},
   "outputs": [
    {
     "name": "stdout",
     "output_type": "stream",
     "text": [
      "-------------------- Result -----------------------\n",
      "Accuracy: 0.9494765589440146\n",
      "              precision    recall  f1-score   support\n",
      "\n",
      "           0       0.87      0.90      0.88       212\n",
      "           1       0.97      0.99      0.98       676\n",
      "           2       0.99      0.95      0.97       140\n",
      "           3       0.92      0.99      0.95        78\n",
      "           4       0.85      0.81      0.83       258\n",
      "           5       0.98      0.97      0.98       833\n",
      "\n",
      "   micro avg       0.95      0.95      0.95      2197\n",
      "   macro avg       0.93      0.93      0.93      2197\n",
      "weighted avg       0.95      0.95      0.95      2197\n",
      "\n",
      "[[190   3   0   0  17   2]\n",
      " [  1 670   0   0   2   3]\n",
      " [  1   0 133   5   1   0]\n",
      " [  0   0   1  77   0   0]\n",
      " [ 22  17   0   1 210   8]\n",
      " [  5   3   0   1  18 806]]\n"
     ]
    }
   ],
   "source": [
    "model.load_weights(weight_fn)\n",
    "prediction = model.predict([X_test[:,:,0:1],X_test[:,:,1:2],X_test[:,:,2:3]]);\n",
    "p_pred = np.argmax(prediction, axis=1)\n",
    "p_test = np.argmax(y_test, axis=1)\n",
    "    \n",
    "cr = classification_report(p_test, p_pred)\n",
    "cm = confusion_matrix(p_test, p_pred)\n",
    "    \n",
    "print(\"-------------------- Result -----------------------\")\n",
    "acc = np.sum(p_pred == p_test)/p_pred.shape[0]\n",
    "print('Accuracy: ' + str(acc))\n",
    "print(cr)\n",
    "print(cm)"
   ]
  },
  {
   "cell_type": "markdown",
   "metadata": {},
   "source": [
    "#### Loss and accuracy "
   ]
  },
  {
   "cell_type": "code",
   "execution_count": 56,
   "metadata": {},
   "outputs": [
    {
     "data": {
      "image/png": "[encoded data removed]",
      "text/plain": [
       "<Figure size 432x288 with 1 Axes>"
      ]
     },
     "metadata": {
      "needs_background": "light"
     },
     "output_type": "display_data"
    }
   ],
   "source": [
    "# summarize history for accuracy\n",
    "plt.plot(history.history['acc'])\n",
    "plt.plot(history.history['val_acc'])\n",
    "plt.title('model accuracy')\n",
    "plt.ylabel('accuracy')\n",
    "plt.xlabel('epoch')\n",
    "plt.legend(['train', 'test'], loc='upper left')\n",
    "plt.show()"
   ]
  },
  {
   "cell_type": "code",
   "execution_count": 57,
   "metadata": {},
   "outputs": [
    {
     "data": {
      "image/png": "[encoded data removed]",
      "text/plain": [
       "<Figure size 432x288 with 1 Axes>"
      ]
     },
     "metadata": {
      "needs_background": "light"
     },
     "output_type": "display_data"
    }
   ],
   "source": [
    "# summarize history for loss\n",
    "plt.plot(history.history['loss'])\n",
    "plt.plot(history.history['val_loss'])\n",
    "plt.title('model loss')\n",
    "plt.ylabel('loss')\n",
    "plt.xlabel('epoch')\n",
    "plt.legend(['train', 'test'], loc='upper left')\n",
    "plt.show()"
   ]
  },
  {
   "cell_type": "code",
   "execution_count": 59,
   "metadata": {},
   "outputs": [
    {
     "data": {
      "image/png": "[encoded data removed]",
      "text/plain": [
       "<Figure size 576x504 with 2 Axes>"
      ]
     },
     "metadata": {
      "needs_background": "light"
     },
     "output_type": "display_data"
    }
   ],
   "source": [
    "# CONFUSION MATRIX\n",
    "plt.figure(figsize=(8, 7))\n",
    "sns.heatmap(cm/(np.sum(cm, axis=1, keepdims=1)), xticklabels=LABELS, yticklabels=LABELS, annot=True);\n",
    "plt.title(\"Confusion matrix\")\n",
    "plt.ylabel('True label')\n",
    "plt.xlabel('Predicted label')\n",
    "plt.show()"
   ]
  },
  {
   "cell_type": "code",
   "execution_count": null,
   "metadata": {},
   "outputs": [],
   "source": []
  }
 ],
 "metadata": {
  "kernelspec": {
   "display_name": "Python 3",
   "language": "python",
   "name": "python3"
  },
  "language_info": {
   "codemirror_mode": {
    "name": "ipython",
    "version": 3
   },
   "file_extension": ".py",
   "mimetype": "text/x-python",
   "name": "python",
   "nbconvert_exporter": "python",
   "pygments_lexer": "ipython3",
   "version": "3.7.1"
  }
 },
 "nbformat": 4,
 "nbformat_minor": 2
}
