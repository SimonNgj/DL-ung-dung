{
 "cells": [
  {
   "cell_type": "markdown",
   "metadata": {},
   "source": [
    "## Human activities classification "
   ]
  },
  {
   "cell_type": "markdown",
   "metadata": {},
   "source": [
    "#### Import libraries "
   ]
  },
  {
   "cell_type": "code",
   "execution_count": 1,
   "metadata": {},
   "outputs": [
    {
     "name": "stderr",
     "output_type": "stream",
     "text": [
      "Using TensorFlow backend.\n"
     ]
    }
   ],
   "source": [
    "import numpy as np\n",
    "import pandas as pd\n",
    "import tensorflow as tf\n",
    "import seaborn as sns\n",
    "from scipy import stats\n",
    "from sklearn import metrics\n",
    "from sklearn.model_selection import train_test_split\n",
    "from sklearn.metrics import classification_report\n",
    "from sklearn.metrics import confusion_matrix\n",
    "import matplotlib.pyplot as plt\n",
    "from keras import regularizers\n",
    "from keras.layers import Input, Dense, GlobalAveragePooling1D, MaxPooling1D\n",
    "from keras.callbacks import ModelCheckpoint\n",
    "from keras.layers import Conv1D, BatchNormalization, Activation, concatenate\n",
    "from keras.layers import LSTM, Flatten\n",
    "from keras.models import Model\n",
    "from keras.optimizers import Adam\n",
    "from keras.utils import to_categorical\n",
    "import keras.backend as K\n",
    "from keras.callbacks import Callback\n",
    "from keras.callbacks import EarlyStopping\n",
    "from keras.layers import TimeDistributed\n",
    "from keras.layers import Bidirectional, Embedding\n",
    "from keras.models import Sequential"
   ]
  },
  {
   "cell_type": "markdown",
   "metadata": {},
   "source": [
    "#### Hyper-parameters "
   ]
  },
  {
   "cell_type": "code",
   "execution_count": 2,
   "metadata": {},
   "outputs": [],
   "source": [
    "RANDOM_SEED = 13\n",
    "\n",
    "# Data preprocessing\n",
    "TIME_STEP = 100\n",
    "\n",
    "# Model\n",
    "N_CLASSES = 6\n",
    "N_FEATURES = 3  # x-acceleration, y-acceleration, z-acceleration\n",
    "\n",
    "# Hyperparameters\n",
    "N_LSTM_LAYERS = 2\n",
    "N_EPOCHS = 15\n",
    "L2_LOSS = 0.0015\n",
    "LEARNING_RATE = 0.0025\n",
    "\n",
    "# Hyperparameters optimized\n",
    "SEGMENT_TIME_SIZE = 180\n",
    "N_HIDDEN_NEURONS = 30\n",
    "BATCH_SIZE = 32"
   ]
  },
  {
   "cell_type": "markdown",
   "metadata": {},
   "source": [
    "#### Load data \n",
    "Each datum is a 3-dimensional time series (x,y and z directions of accelerometer)"
   ]
  },
  {
   "cell_type": "code",
   "execution_count": 3,
   "metadata": {},
   "outputs": [],
   "source": [
    "##################################################\n",
    "### GLOBAL VARIABLES\n",
    "##################################################\n",
    "COLUMN_NAMES = [\n",
    "    'user',\n",
    "    'activity',\n",
    "    'timestamp',\n",
    "    'x-axis',\n",
    "    'y-axis',\n",
    "    'z-axis'\n",
    "]\n",
    "\n",
    "LABELS = [\n",
    "    'Downstairs',\n",
    "    'Jogging',\n",
    "    'Sitting',\n",
    "    'Standing',\n",
    "    'Upstairs',\n",
    "    'Walking'\n",
    "]\n",
    "\n",
    "DATA_PATH = 'data/WISDM_ar_v1.1_raw.txt'\n",
    "data = pd.read_csv(DATA_PATH, header=None, names=COLUMN_NAMES)\n",
    "data['z-axis'].replace({';': ''}, regex=True, inplace=True)\n",
    "data = data.dropna()"
   ]
  },
  {
   "cell_type": "markdown",
   "metadata": {},
   "source": [
    "#### Define model \n",
    "Model 2 is inspired by Paper: \"Deep Recurrent Neural Networks for Human Activity Recognition\", Abdulmajid Murad, et al, 2017, Sensors MDPI\n",
    "https://www.mdpi.com/1424-8220/17/11/2556"
   ]
  },
  {
   "cell_type": "code",
   "execution_count": 4,
   "metadata": {},
   "outputs": [],
   "source": [
    "def model2():\n",
    "    ip = Input(shape=(SEGMENT_TIME_SIZE, N_FEATURES), name='main_input')\n",
    "    x = Bidirectional(LSTM(64, return_sequences=True))(ip)\n",
    "    x = Bidirectional(LSTM(64))(x)\n",
    "    out = Dense(N_CLASSES, kernel_regularizer=regularizers.l2(0.001), activation='softmax')(x)\n",
    "    \n",
    "    model = Model(ip, out)\n",
    "    model.summary()\n",
    "    return model"
   ]
  },
  {
   "cell_type": "markdown",
   "metadata": {},
   "source": [
    "#### Training "
   ]
  },
  {
   "cell_type": "code",
   "execution_count": 6,
   "metadata": {},
   "outputs": [
    {
     "name": "stdout",
     "output_type": "stream",
     "text": [
      "Convoluted data shape:  (10981, 180, 3)\n",
      "Labels shape: (10981, 6)\n",
      "X train size:  6588\n",
      "X test size:  2197\n",
      "X val size:  2196\n",
      "y train size:  6588\n",
      "y test size:  2197\n",
      "y val size:  2196\n",
      "_________________________________________________________________\n",
      "Layer (type)                 Output Shape              Param #   \n",
      "=================================================================\n",
      "main_input (InputLayer)      (None, 180, 3)            0         \n",
      "_________________________________________________________________\n",
      "bidirectional_1 (Bidirection (None, 180, 128)          34816     \n",
      "_________________________________________________________________\n",
      "bidirectional_2 (Bidirection (None, 128)               98816     \n",
      "_________________________________________________________________\n",
      "dense_1 (Dense)              (None, 6)                 774       \n",
      "=================================================================\n",
      "Total params: 134,406\n",
      "Trainable params: 134,406\n",
      "Non-trainable params: 0\n",
      "_________________________________________________________________\n",
      "WARNING:tensorflow:From C:\\Users\\xngu0004\\Anaconda3\\lib\\site-packages\\tensorflow\\python\\ops\\math_ops.py:3066: to_int32 (from tensorflow.python.ops.math_ops) is deprecated and will be removed in a future version.\n",
      "Instructions for updating:\n",
      "Use tf.cast instead.\n",
      "Train on 6588 samples, validate on 2196 samples\n",
      "Epoch 1/15\n",
      " - 46s - loss: 0.7481 - acc: 0.7386 - val_loss: 0.6513 - val_acc: 0.7500\n",
      "\n",
      "Epoch 00001: val_acc improved from -inf to 0.75000, saving model to ./weights_simon.h5\n",
      "Epoch 2/15\n",
      " - 44s - loss: 0.5608 - acc: 0.7954 - val_loss: 0.5562 - val_acc: 0.8065\n",
      "\n",
      "Epoch 00002: val_acc improved from 0.75000 to 0.80647, saving model to ./weights_simon.h5\n",
      "Epoch 3/15\n",
      " - 45s - loss: 0.5009 - acc: 0.8177 - val_loss: 0.5769 - val_acc: 0.8005\n",
      "\n",
      "Epoch 00003: val_acc did not improve from 0.80647\n",
      "Epoch 4/15\n",
      " - 44s - loss: 0.4495 - acc: 0.8317 - val_loss: 0.4646 - val_acc: 0.8224\n",
      "\n",
      "Epoch 00004: val_acc improved from 0.80647 to 0.82240, saving model to ./weights_simon.h5\n",
      "Epoch 5/15\n",
      " - 45s - loss: 0.3899 - acc: 0.8607 - val_loss: 0.3788 - val_acc: 0.8702\n",
      "\n",
      "Epoch 00005: val_acc improved from 0.82240 to 0.87022, saving model to ./weights_simon.h5\n",
      "Epoch 6/15\n",
      " - 44s - loss: 0.3287 - acc: 0.8849 - val_loss: 0.4791 - val_acc: 0.8347\n",
      "\n",
      "Epoch 00006: val_acc did not improve from 0.87022\n",
      "Epoch 7/15\n",
      " - 43s - loss: 0.3016 - acc: 0.8951 - val_loss: 0.3086 - val_acc: 0.8880\n",
      "\n",
      "Epoch 00007: val_acc improved from 0.87022 to 0.88798, saving model to ./weights_simon.h5\n",
      "Epoch 8/15\n",
      " - 42s - loss: 0.2618 - acc: 0.9097 - val_loss: 0.3275 - val_acc: 0.8884\n",
      "\n",
      "Epoch 00008: val_acc improved from 0.88798 to 0.88843, saving model to ./weights_simon.h5\n",
      "Epoch 9/15\n",
      " - 44s - loss: 0.2437 - acc: 0.9186 - val_loss: 0.2366 - val_acc: 0.9262\n",
      "\n",
      "Epoch 00009: val_acc improved from 0.88843 to 0.92623, saving model to ./weights_simon.h5\n",
      "Epoch 10/15\n",
      " - 45s - loss: 0.2400 - acc: 0.9223 - val_loss: 0.2381 - val_acc: 0.9180\n",
      "\n",
      "Epoch 00010: val_acc did not improve from 0.92623\n",
      "Epoch 11/15\n",
      " - 44s - loss: 0.1982 - acc: 0.9355 - val_loss: 0.2961 - val_acc: 0.8994\n",
      "\n",
      "Epoch 00011: val_acc did not improve from 0.92623\n",
      "Epoch 12/15\n",
      " - 44s - loss: 0.1823 - acc: 0.9399 - val_loss: 0.2181 - val_acc: 0.9308\n",
      "\n",
      "Epoch 00012: val_acc improved from 0.92623 to 0.93078, saving model to ./weights_simon.h5\n",
      "Epoch 13/15\n",
      " - 44s - loss: 0.2269 - acc: 0.9287 - val_loss: 0.2304 - val_acc: 0.9294\n",
      "\n",
      "Epoch 00013: val_acc did not improve from 0.93078\n",
      "Epoch 14/15\n",
      " - 44s - loss: 0.2073 - acc: 0.9372 - val_loss: 0.2430 - val_acc: 0.9235\n",
      "\n",
      "Epoch 00014: val_acc did not improve from 0.93078\n",
      "Epoch 15/15\n",
      " - 43s - loss: 0.1868 - acc: 0.9406 - val_loss: 0.2314 - val_acc: 0.9281\n",
      "\n",
      "Epoch 00015: val_acc did not improve from 0.93078\n"
     ]
    }
   ],
   "source": [
    "# DATA PREPROCESSING\n",
    "data_convoluted = []\n",
    "labels = []\n",
    "\n",
    "# Slide a \"SEGMENT_TIME_SIZE\" wide window with a step size of \"TIME_STEP\"\n",
    "for i in range(0, len(data) - SEGMENT_TIME_SIZE, TIME_STEP):\n",
    "    x = data['x-axis'].values[i: i + SEGMENT_TIME_SIZE]\n",
    "    y = data['y-axis'].values[i: i + SEGMENT_TIME_SIZE]\n",
    "    z = data['z-axis'].values[i: i + SEGMENT_TIME_SIZE]\n",
    "    data_convoluted.append([x, y, z])\n",
    "\n",
    "    # Label for a data window is the label that appears most commonly\n",
    "    label = stats.mode(data['activity'][i: i + SEGMENT_TIME_SIZE])[0][0]\n",
    "    labels.append(label)\n",
    "\n",
    "# Convert to numpy\n",
    "data_convoluted = np.asarray(data_convoluted, dtype=np.float32).transpose(0, 2, 1)\n",
    "\n",
    "# One-hot encoding\n",
    "labels = np.asarray(pd.get_dummies(labels), dtype=np.float32)\n",
    "print(\"Convoluted data shape: \", data_convoluted.shape)\n",
    "print(\"Labels shape:\", labels.shape)\n",
    "\n",
    "# SPLIT INTO TRAINING AND TEST SETS\n",
    "X_train1, X_test, y_train1, y_test = train_test_split(data_convoluted, labels, test_size=0.2, random_state=RANDOM_SEED)\n",
    "X_train, X_val, y_train, y_val = train_test_split(X_train1, y_train1, test_size=0.25, random_state=RANDOM_SEED)\n",
    "print(\"X train size: \", len(X_train))\n",
    "print(\"X test size: \", len(X_test))\n",
    "print(\"X val size: \", len(X_val))\n",
    "print(\"y train size: \", len(y_train))\n",
    "print(\"y test size: \", len(y_test))\n",
    "print(\"y val size: \", len(y_val))\n",
    "    \n",
    "######### Training #########\n",
    "weight_fn = \"./weights_simon.h5\"\n",
    "model_checkpoint = ModelCheckpoint(weight_fn, verbose=1, mode='max', monitor='val_acc', save_best_only=True, save_weights_only=True)\n",
    "stop = EarlyStopping(monitor='val_loss', patience=15)\n",
    "callback_list = [model_checkpoint, stop]\n",
    "optm = Adam(lr=LEARNING_RATE)\n",
    "\n",
    "model = model2()\n",
    "\n",
    "model.compile(optimizer=optm, loss='categorical_crossentropy', metrics=['accuracy'])\n",
    "history = model.fit(X_train, y_train, batch_size=BATCH_SIZE, epochs=N_EPOCHS, callbacks = callback_list, verbose=2, \n",
    "                    validation_data=(X_val, y_val))"
   ]
  },
  {
   "cell_type": "markdown",
   "metadata": {},
   "source": [
    "#### Prediction "
   ]
  },
  {
   "cell_type": "code",
   "execution_count": 7,
   "metadata": {},
   "outputs": [
    {
     "name": "stdout",
     "output_type": "stream",
     "text": [
      "-------------------- Result -----------------------\n",
      "Accuracy: 0.9312699135184342\n",
      "              precision    recall  f1-score   support\n",
      "\n",
      "           0       0.78      0.75      0.76       212\n",
      "           1       0.96      0.99      0.98       676\n",
      "           2       0.96      0.98      0.97       140\n",
      "           3       0.99      0.88      0.93        78\n",
      "           4       0.80      0.83      0.81       258\n",
      "           5       0.98      0.96      0.97       833\n",
      "\n",
      "   micro avg       0.93      0.93      0.93      2197\n",
      "   macro avg       0.91      0.90      0.90      2197\n",
      "weighted avg       0.93      0.93      0.93      2197\n",
      "\n",
      "[[159   7   2   0  37   7]\n",
      " [  0 669   0   0   5   2]\n",
      " [  1   0 137   1   0   1]\n",
      " [  1   0   2  69   5   1]\n",
      " [ 22  13   1   0 214   8]\n",
      " [ 21   7   0   0   7 798]]\n"
     ]
    }
   ],
   "source": [
    "model.load_weights(weight_fn)\n",
    "prediction = model.predict(X_test);\n",
    "p_pred = np.argmax(prediction, axis=1)\n",
    "p_test = np.argmax(y_test, axis=1)\n",
    "    \n",
    "cr = classification_report(p_test, p_pred)\n",
    "cm = confusion_matrix(p_test, p_pred)\n",
    "    \n",
    "print(\"-------------------- Result -----------------------\")\n",
    "acc = np.sum(p_pred == p_test)/p_pred.shape[0]\n",
    "print('Accuracy: ' + str(acc))\n",
    "print(cr)\n",
    "print(cm)"
   ]
  },
  {
   "cell_type": "markdown",
   "metadata": {},
   "source": [
    "#### Loss and accuracy "
   ]
  },
  {
   "cell_type": "code",
   "execution_count": 8,
   "metadata": {},
   "outputs": [
    {
     "data": {
      "image/png": "[encoded data removed]",
      "text/plain": [
       "<Figure size 432x288 with 1 Axes>"
      ]
     },
     "metadata": {
      "needs_background": "light"
     },
     "output_type": "display_data"
    }
   ],
   "source": [
    "# summarize history for accuracy\n",
    "plt.plot(history.history['acc'])\n",
    "plt.plot(history.history['val_acc'])\n",
    "plt.title('model accuracy')\n",
    "plt.ylabel('accuracy')\n",
    "plt.xlabel('epoch')\n",
    "plt.legend(['train', 'test'], loc='upper left')\n",
    "plt.show()"
   ]
  },
  {
   "cell_type": "code",
   "execution_count": 9,
   "metadata": {},
   "outputs": [
    {
     "data": {
      "image/png": "[encoded data removed]",
      "text/plain": [
       "<Figure size 432x288 with 1 Axes>"
      ]
     },
     "metadata": {
      "needs_background": "light"
     },
     "output_type": "display_data"
    }
   ],
   "source": [
    "# summarize history for loss\n",
    "plt.plot(history.history['loss'])\n",
    "plt.plot(history.history['val_loss'])\n",
    "plt.title('model loss')\n",
    "plt.ylabel('loss')\n",
    "plt.xlabel('epoch')\n",
    "plt.legend(['train', 'test'], loc='upper left')\n",
    "plt.show()"
   ]
  },
  {
   "cell_type": "code",
   "execution_count": 10,
   "metadata": {},
   "outputs": [
    {
     "data": {
      "image/png": "[encoded data removed]",
      "text/plain": [
       "<Figure size 576x504 with 2 Axes>"
      ]
     },
     "metadata": {
      "needs_background": "light"
     },
     "output_type": "display_data"
    }
   ],
   "source": [
    "# CONFUSION MATRIX\n",
    "plt.figure(figsize=(8, 7))\n",
    "sns.heatmap(cm/(np.sum(cm, axis=1, keepdims=1)), xticklabels=LABELS, yticklabels=LABELS, annot=True);\n",
    "plt.title(\"Confusion matrix\")\n",
    "plt.ylabel('True label')\n",
    "plt.xlabel('Predicted label')\n",
    "plt.show()"
   ]
  },
  {
   "cell_type": "markdown",
   "metadata": {},
   "source": [
    "#### Notes\n",
    "Bi-directional LSTM > LSTM\n",
    "\n",
    "FCN (aka temporal CNN) gives the best accuracy. the reason could be CNNs are more suitable for short duration data. Training LSTMs is also more computational cost compared to CNNs "
   ]
  },
  {
   "cell_type": "code",
   "execution_count": null,
   "metadata": {},
   "outputs": [],
   "source": []
  }
 ],
 "metadata": {
  "kernelspec": {
   "display_name": "Python 3",
   "language": "python",
   "name": "python3"
  },
  "language_info": {
   "codemirror_mode": {
    "name": "ipython",
    "version": 3
   },
   "file_extension": ".py",
   "mimetype": "text/x-python",
   "name": "python",
   "nbconvert_exporter": "python",
   "pygments_lexer": "ipython3",
   "version": "3.7.1"
  }
 },
 "nbformat": 4,
 "nbformat_minor": 2
}
