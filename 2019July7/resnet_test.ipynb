{
 "cells": [
  {
   "cell_type": "markdown",
   "metadata": {},
   "source": [
    "## Human activities classification "
   ]
  },
  {
   "cell_type": "markdown",
   "metadata": {},
   "source": [
    "#### Import libraries "
   ]
  },
  {
   "cell_type": "code",
   "execution_count": 8,
   "metadata": {},
   "outputs": [],
   "source": [
    "import numpy as np\n",
    "import pandas as pd\n",
    "import tensorflow as tf\n",
    "import seaborn as sns\n",
    "from scipy import stats\n",
    "from sklearn import metrics\n",
    "from sklearn.model_selection import train_test_split\n",
    "from sklearn.metrics import classification_report\n",
    "from sklearn.metrics import confusion_matrix\n",
    "import matplotlib.pyplot as plt\n",
    "import keras\n",
    "from keras import regularizers\n",
    "from keras.layers import Input, Dense, GlobalAveragePooling1D, MaxPooling1D\n",
    "from keras.callbacks import ModelCheckpoint\n",
    "from keras.layers import Conv1D, BatchNormalization, Activation, concatenate\n",
    "from keras.layers import LSTM, Flatten\n",
    "from keras.models import Model\n",
    "from keras.optimizers import Adam\n",
    "from keras.utils import to_categorical\n",
    "import keras.backend as K\n",
    "from keras.callbacks import Callback\n",
    "from keras.callbacks import EarlyStopping\n",
    "from keras.layers import TimeDistributed\n",
    "from keras.layers import Bidirectional, Embedding\n",
    "from keras.models import Sequential"
   ]
  },
  {
   "cell_type": "markdown",
   "metadata": {},
   "source": [
    "#### Hyper-parameters "
   ]
  },
  {
   "cell_type": "code",
   "execution_count": 2,
   "metadata": {},
   "outputs": [],
   "source": [
    "RANDOM_SEED = 13\n",
    "\n",
    "# Data preprocessing\n",
    "TIME_STEP = 100\n",
    "\n",
    "# Model\n",
    "N_CLASSES = 6\n",
    "N_FEATURES = 3  # x-acceleration, y-acceleration, z-acceleration\n",
    "\n",
    "# Hyperparameters\n",
    "N_LSTM_LAYERS = 2\n",
    "N_EPOCHS = 15\n",
    "L2_LOSS = 0.0015\n",
    "LEARNING_RATE = 0.0025\n",
    "\n",
    "# Hyperparameters optimized\n",
    "SEGMENT_TIME_SIZE = 180\n",
    "N_HIDDEN_NEURONS = 30\n",
    "BATCH_SIZE = 32"
   ]
  },
  {
   "cell_type": "markdown",
   "metadata": {},
   "source": [
    "#### Load data \n",
    "Each datum is a 3-dimensional time series (x,y and z directions of accelerometer)"
   ]
  },
  {
   "cell_type": "code",
   "execution_count": 3,
   "metadata": {},
   "outputs": [],
   "source": [
    "##################################################\n",
    "### GLOBAL VARIABLES\n",
    "##################################################\n",
    "COLUMN_NAMES = [\n",
    "    'user',\n",
    "    'activity',\n",
    "    'timestamp',\n",
    "    'x-axis',\n",
    "    'y-axis',\n",
    "    'z-axis'\n",
    "]\n",
    "\n",
    "LABELS = [\n",
    "    'Downstairs',\n",
    "    'Jogging',\n",
    "    'Sitting',\n",
    "    'Standing',\n",
    "    'Upstairs',\n",
    "    'Walking'\n",
    "]\n",
    "\n",
    "DATA_PATH = 'data/WISDM_ar_v1.1_raw.txt'\n",
    "data = pd.read_csv(DATA_PATH, header=None, names=COLUMN_NAMES)\n",
    "data['z-axis'].replace({';': ''}, regex=True, inplace=True)\n",
    "data = data.dropna()"
   ]
  },
  {
   "cell_type": "markdown",
   "metadata": {},
   "source": [
    "#### Define model \n",
    "Model 1 is inspired by Paper: \"Convolutional Neural Networks for human activity recognition using mobile sensors\", Ming Zeng, et al, 2014\n",
    "https://ieeexplore.ieee.org/document/7026300"
   ]
  },
  {
   "cell_type": "code",
   "execution_count": 13,
   "metadata": {},
   "outputs": [],
   "source": [
    "def model1():\n",
    "    n_feature_maps = 64\n",
    "    ip = keras.layers.Input(shape=(SEGMENT_TIME_SIZE, N_FEATURES), name='main_input')\n",
    "    \n",
    "    # BLOCK 1 \n",
    "    conv_x = keras.layers.Conv1D(filters=n_feature_maps, kernel_size=8, padding='same')(ip)\n",
    "    conv_x = keras.layers.normalization.BatchNormalization()(conv_x)\n",
    "    conv_x = keras.layers.Activation('relu')(conv_x)\n",
    "\n",
    "    conv_y = keras.layers.Conv1D(filters=n_feature_maps, kernel_size=5, padding='same')(conv_x)\n",
    "    conv_y = keras.layers.normalization.BatchNormalization()(conv_y)\n",
    "    conv_y = keras.layers.Activation('relu')(conv_y)\n",
    "\n",
    "    conv_z = keras.layers.Conv1D(filters=n_feature_maps, kernel_size=3, padding='same')(conv_y)\n",
    "    conv_z = keras.layers.normalization.BatchNormalization()(conv_z)\n",
    "\n",
    "    # expand channels for the sum \n",
    "    shortcut_y = keras.layers.Conv1D(filters=n_feature_maps, kernel_size=1, padding='same')(ip)\n",
    "    shortcut_y = keras.layers.normalization.BatchNormalization()(shortcut_y)\n",
    "\n",
    "    output_block_1 = keras.layers.add([shortcut_y, conv_z])\n",
    "    output_block_1 = keras.layers.Activation('relu')(output_block_1)\n",
    "\n",
    "\t# BLOCK 2 \n",
    "    conv_x = keras.layers.Conv1D(filters=n_feature_maps*2, kernel_size=8, padding='same')(output_block_1)\n",
    "    conv_x = keras.layers.normalization.BatchNormalization()(conv_x)\n",
    "    conv_x = keras.layers.Activation('relu')(conv_x)\n",
    "\n",
    "    conv_y = keras.layers.Conv1D(filters=n_feature_maps*2, kernel_size=5, padding='same')(conv_x)\n",
    "    conv_y = keras.layers.normalization.BatchNormalization()(conv_y)\n",
    "    conv_y = keras.layers.Activation('relu')(conv_y)\n",
    "\n",
    "    conv_z = keras.layers.Conv1D(filters=n_feature_maps*2, kernel_size=3, padding='same')(conv_y)\n",
    "    conv_z = keras.layers.normalization.BatchNormalization()(conv_z)\n",
    "\n",
    "\t# expand channels for the sum \n",
    "    shortcut_y = keras.layers.Conv1D(filters=n_feature_maps*2, kernel_size=1, padding='same')(output_block_1)\n",
    "    shortcut_y = keras.layers.normalization.BatchNormalization()(shortcut_y)\n",
    "\n",
    "    output_block_2 = keras.layers.add([shortcut_y, conv_z])\n",
    "    output_block_2 = keras.layers.Activation('relu')(output_block_2)\n",
    "\n",
    "\t# BLOCK 3 \n",
    "    conv_x = keras.layers.Conv1D(filters=n_feature_maps*2, kernel_size=8, padding='same')(output_block_2)\n",
    "    conv_x = keras.layers.normalization.BatchNormalization()(conv_x)\n",
    "    conv_x = keras.layers.Activation('relu')(conv_x)\n",
    "\n",
    "    conv_y = keras.layers.Conv1D(filters=n_feature_maps*2, kernel_size=5, padding='same')(conv_x)\n",
    "    conv_y = keras.layers.normalization.BatchNormalization()(conv_y)\n",
    "    conv_y = keras.layers.Activation('relu')(conv_y)\n",
    "\n",
    "    conv_z = keras.layers.Conv1D(filters=n_feature_maps*2, kernel_size=3, padding='same')(conv_y)\n",
    "    conv_z = keras.layers.normalization.BatchNormalization()(conv_z)\n",
    "\n",
    "\t# no need to expand channels because they are equal \n",
    "    shortcut_y = keras.layers.normalization.BatchNormalization()(output_block_2)\n",
    "\n",
    "    output_block_3 = keras.layers.add([shortcut_y, conv_z])\n",
    "    output_block_3 = keras.layers.Activation('relu')(output_block_3)\n",
    "\n",
    "\t# FINAL \n",
    "\t\t\n",
    "    gap_layer = keras.layers.GlobalAveragePooling1D()(output_block_3)\n",
    "    out = keras.layers.Dense(N_CLASSES, activation='softmax')(gap_layer)\n",
    "    \n",
    "    model = Model(ip, out)\n",
    "    model.summary()\n",
    "    \n",
    "    return model"
   ]
  },
  {
   "cell_type": "markdown",
   "metadata": {},
   "source": [
    "#### Training "
   ]
  },
  {
   "cell_type": "code",
   "execution_count": 14,
   "metadata": {},
   "outputs": [
    {
     "name": "stdout",
     "output_type": "stream",
     "text": [
      "Convoluted data shape:  (10981, 180, 3)\n",
      "Labels shape: (10981, 6)\n",
      "X train size:  6588\n",
      "X test size:  2197\n",
      "X val size:  2196\n",
      "y train size:  6588\n",
      "y test size:  2197\n",
      "y val size:  2196\n",
      "__________________________________________________________________________________________________\n",
      "Layer (type)                    Output Shape         Param #     Connected to                     \n",
      "==================================================================================================\n",
      "main_input (InputLayer)         (None, 180, 3)       0                                            \n",
      "__________________________________________________________________________________________________\n",
      "conv1d_24 (Conv1D)              (None, 180, 64)      1600        main_input[0][0]                 \n",
      "__________________________________________________________________________________________________\n",
      "batch_normalization_25 (BatchNo (None, 180, 64)      256         conv1d_24[0][0]                  \n",
      "__________________________________________________________________________________________________\n",
      "activation_19 (Activation)      (None, 180, 64)      0           batch_normalization_25[0][0]     \n",
      "__________________________________________________________________________________________________\n",
      "conv1d_25 (Conv1D)              (None, 180, 64)      20544       activation_19[0][0]              \n",
      "__________________________________________________________________________________________________\n",
      "batch_normalization_26 (BatchNo (None, 180, 64)      256         conv1d_25[0][0]                  \n",
      "__________________________________________________________________________________________________\n",
      "activation_20 (Activation)      (None, 180, 64)      0           batch_normalization_26[0][0]     \n",
      "__________________________________________________________________________________________________\n",
      "conv1d_27 (Conv1D)              (None, 180, 64)      256         main_input[0][0]                 \n",
      "__________________________________________________________________________________________________\n",
      "conv1d_26 (Conv1D)              (None, 180, 64)      12352       activation_20[0][0]              \n",
      "__________________________________________________________________________________________________\n",
      "batch_normalization_28 (BatchNo (None, 180, 64)      256         conv1d_27[0][0]                  \n",
      "__________________________________________________________________________________________________\n",
      "batch_normalization_27 (BatchNo (None, 180, 64)      256         conv1d_26[0][0]                  \n",
      "__________________________________________________________________________________________________\n",
      "add_7 (Add)                     (None, 180, 64)      0           batch_normalization_28[0][0]     \n",
      "                                                                 batch_normalization_27[0][0]     \n",
      "__________________________________________________________________________________________________\n",
      "activation_21 (Activation)      (None, 180, 64)      0           add_7[0][0]                      \n",
      "__________________________________________________________________________________________________\n",
      "conv1d_28 (Conv1D)              (None, 180, 128)     65664       activation_21[0][0]              \n",
      "__________________________________________________________________________________________________\n",
      "batch_normalization_29 (BatchNo (None, 180, 128)     512         conv1d_28[0][0]                  \n",
      "__________________________________________________________________________________________________\n",
      "activation_22 (Activation)      (None, 180, 128)     0           batch_normalization_29[0][0]     \n",
      "__________________________________________________________________________________________________\n",
      "conv1d_29 (Conv1D)              (None, 180, 128)     82048       activation_22[0][0]              \n",
      "__________________________________________________________________________________________________\n",
      "batch_normalization_30 (BatchNo (None, 180, 128)     512         conv1d_29[0][0]                  \n",
      "__________________________________________________________________________________________________\n",
      "activation_23 (Activation)      (None, 180, 128)     0           batch_normalization_30[0][0]     \n",
      "__________________________________________________________________________________________________\n",
      "conv1d_31 (Conv1D)              (None, 180, 128)     8320        activation_21[0][0]              \n",
      "__________________________________________________________________________________________________\n",
      "conv1d_30 (Conv1D)              (None, 180, 128)     49280       activation_23[0][0]              \n",
      "__________________________________________________________________________________________________\n",
      "batch_normalization_32 (BatchNo (None, 180, 128)     512         conv1d_31[0][0]                  \n",
      "__________________________________________________________________________________________________\n",
      "batch_normalization_31 (BatchNo (None, 180, 128)     512         conv1d_30[0][0]                  \n",
      "__________________________________________________________________________________________________\n",
      "add_8 (Add)                     (None, 180, 128)     0           batch_normalization_32[0][0]     \n",
      "                                                                 batch_normalization_31[0][0]     \n",
      "__________________________________________________________________________________________________\n",
      "activation_24 (Activation)      (None, 180, 128)     0           add_8[0][0]                      \n",
      "__________________________________________________________________________________________________\n",
      "conv1d_32 (Conv1D)              (None, 180, 128)     131200      activation_24[0][0]              \n",
      "__________________________________________________________________________________________________\n",
      "batch_normalization_33 (BatchNo (None, 180, 128)     512         conv1d_32[0][0]                  \n",
      "__________________________________________________________________________________________________\n",
      "activation_25 (Activation)      (None, 180, 128)     0           batch_normalization_33[0][0]     \n",
      "__________________________________________________________________________________________________\n",
      "conv1d_33 (Conv1D)              (None, 180, 128)     82048       activation_25[0][0]              \n",
      "__________________________________________________________________________________________________\n",
      "batch_normalization_34 (BatchNo (None, 180, 128)     512         conv1d_33[0][0]                  \n",
      "__________________________________________________________________________________________________\n",
      "activation_26 (Activation)      (None, 180, 128)     0           batch_normalization_34[0][0]     \n",
      "__________________________________________________________________________________________________\n",
      "conv1d_34 (Conv1D)              (None, 180, 128)     49280       activation_26[0][0]              \n",
      "__________________________________________________________________________________________________\n",
      "batch_normalization_36 (BatchNo (None, 180, 128)     512         activation_24[0][0]              \n",
      "__________________________________________________________________________________________________\n",
      "batch_normalization_35 (BatchNo (None, 180, 128)     512         conv1d_34[0][0]                  \n",
      "__________________________________________________________________________________________________\n",
      "add_9 (Add)                     (None, 180, 128)     0           batch_normalization_36[0][0]     \n",
      "                                                                 batch_normalization_35[0][0]     \n",
      "__________________________________________________________________________________________________\n",
      "activation_27 (Activation)      (None, 180, 128)     0           add_9[0][0]                      \n",
      "__________________________________________________________________________________________________\n",
      "global_average_pooling1d_3 (Glo (None, 128)          0           activation_27[0][0]              \n",
      "__________________________________________________________________________________________________\n",
      "dense_3 (Dense)                 (None, 6)            774         global_average_pooling1d_3[0][0] \n",
      "==================================================================================================\n",
      "Total params: 508,486\n",
      "Trainable params: 505,926\n",
      "Non-trainable params: 2,560\n",
      "__________________________________________________________________________________________________\n",
      "WARNING:tensorflow:From C:\\Users\\xngu0004\\Anaconda3\\lib\\site-packages\\tensorflow\\python\\ops\\math_ops.py:3066: to_int32 (from tensorflow.python.ops.math_ops) is deprecated and will be removed in a future version.\n",
      "Instructions for updating:\n",
      "Use tf.cast instead.\n"
     ]
    },
    {
     "name": "stdout",
     "output_type": "stream",
     "text": [
      "Train on 6588 samples, validate on 2196 samples\n",
      "Epoch 1/15\n",
      " - 72s - loss: 0.3791 - acc: 0.8672 - val_loss: 0.5976 - val_acc: 0.8074\n",
      "\n",
      "Epoch 00001: val_acc improved from -inf to 0.80738, saving model to ./weights_simon.h5\n",
      "Epoch 2/15\n",
      " - 70s - loss: 0.1613 - acc: 0.9437 - val_loss: 0.5401 - val_acc: 0.8342\n",
      "\n",
      "Epoch 00002: val_acc improved from 0.80738 to 0.83424, saving model to ./weights_simon.h5\n",
      "Epoch 3/15\n",
      " - 72s - loss: 0.1173 - acc: 0.9604 - val_loss: 0.2223 - val_acc: 0.9299\n",
      "\n",
      "Epoch 00003: val_acc improved from 0.83424 to 0.92987, saving model to ./weights_simon.h5\n",
      "Epoch 4/15\n",
      " - 71s - loss: 0.1061 - acc: 0.9652 - val_loss: 0.0968 - val_acc: 0.9681\n",
      "\n",
      "Epoch 00004: val_acc improved from 0.92987 to 0.96812, saving model to ./weights_simon.h5\n",
      "Epoch 5/15\n",
      " - 71s - loss: 0.0765 - acc: 0.9751 - val_loss: 0.0647 - val_acc: 0.9759\n",
      "\n",
      "Epoch 00005: val_acc improved from 0.96812 to 0.97587, saving model to ./weights_simon.h5\n",
      "Epoch 6/15\n",
      " - 71s - loss: 0.0810 - acc: 0.9713 - val_loss: 0.0798 - val_acc: 0.9704\n",
      "\n",
      "Epoch 00006: val_acc did not improve from 0.97587\n",
      "Epoch 7/15\n",
      " - 68s - loss: 0.0624 - acc: 0.9800 - val_loss: 0.0701 - val_acc: 0.9740\n",
      "\n",
      "Epoch 00007: val_acc did not improve from 0.97587\n",
      "Epoch 8/15\n",
      " - 67s - loss: 0.0528 - acc: 0.9828 - val_loss: 0.1274 - val_acc: 0.9577\n",
      "\n",
      "Epoch 00008: val_acc did not improve from 0.97587\n",
      "Epoch 9/15\n",
      " - 67s - loss: 0.0547 - acc: 0.9828 - val_loss: 0.1390 - val_acc: 0.9526\n",
      "\n",
      "Epoch 00009: val_acc did not improve from 0.97587\n",
      "Epoch 10/15\n",
      " - 69s - loss: 0.0487 - acc: 0.9838 - val_loss: 0.0834 - val_acc: 0.9709\n",
      "\n",
      "Epoch 00010: val_acc did not improve from 0.97587\n",
      "Epoch 11/15\n",
      " - 70s - loss: 0.0424 - acc: 0.9856 - val_loss: 0.0738 - val_acc: 0.9763\n",
      "\n",
      "Epoch 00011: val_acc improved from 0.97587 to 0.97632, saving model to ./weights_simon.h5\n",
      "Epoch 12/15\n",
      " - 71s - loss: 0.0417 - acc: 0.9845 - val_loss: 0.0580 - val_acc: 0.9777\n",
      "\n",
      "Epoch 00012: val_acc improved from 0.97632 to 0.97769, saving model to ./weights_simon.h5\n",
      "Epoch 13/15\n",
      " - 67s - loss: 0.0338 - acc: 0.9885 - val_loss: 0.1257 - val_acc: 0.9599\n",
      "\n",
      "Epoch 00013: val_acc did not improve from 0.97769\n",
      "Epoch 14/15\n",
      " - 65s - loss: 0.0479 - acc: 0.9827 - val_loss: 0.0625 - val_acc: 0.9772\n",
      "\n",
      "Epoch 00014: val_acc did not improve from 0.97769\n",
      "Epoch 15/15\n",
      " - 65s - loss: 0.0542 - acc: 0.9819 - val_loss: 0.0784 - val_acc: 0.9727\n",
      "\n",
      "Epoch 00015: val_acc did not improve from 0.97769\n"
     ]
    }
   ],
   "source": [
    "# DATA PREPROCESSING\n",
    "data_convoluted = []\n",
    "labels = []\n",
    "\n",
    "# Slide a \"SEGMENT_TIME_SIZE\" wide window with a step size of \"TIME_STEP\"\n",
    "for i in range(0, len(data) - SEGMENT_TIME_SIZE, TIME_STEP):\n",
    "    x = data['x-axis'].values[i: i + SEGMENT_TIME_SIZE]\n",
    "    y = data['y-axis'].values[i: i + SEGMENT_TIME_SIZE]\n",
    "    z = data['z-axis'].values[i: i + SEGMENT_TIME_SIZE]\n",
    "    data_convoluted.append([x, y, z])\n",
    "\n",
    "    # Label for a data window is the label that appears most commonly\n",
    "    label = stats.mode(data['activity'][i: i + SEGMENT_TIME_SIZE])[0][0]\n",
    "    labels.append(label)\n",
    "\n",
    "# Convert to numpy\n",
    "data_convoluted = np.asarray(data_convoluted, dtype=np.float32).transpose(0, 2, 1)\n",
    "\n",
    "# One-hot encoding\n",
    "labels = np.asarray(pd.get_dummies(labels), dtype=np.float32)\n",
    "print(\"Convoluted data shape: \", data_convoluted.shape)\n",
    "print(\"Labels shape:\", labels.shape)\n",
    "\n",
    "# SPLIT INTO TRAINING AND TEST SETS\n",
    "X_train1, X_test, y_train1, y_test = train_test_split(data_convoluted, labels, test_size=0.2, random_state=RANDOM_SEED)\n",
    "X_train, X_val, y_train, y_val = train_test_split(X_train1, y_train1, test_size=0.25, random_state=RANDOM_SEED)\n",
    "print(\"X train size: \", len(X_train))\n",
    "print(\"X test size: \", len(X_test))\n",
    "print(\"X val size: \", len(X_val))\n",
    "print(\"y train size: \", len(y_train))\n",
    "print(\"y test size: \", len(y_test))\n",
    "print(\"y val size: \", len(y_val))\n",
    "    \n",
    "######### Training #########\n",
    "weight_fn = \"./weights_simon.h5\"\n",
    "model_checkpoint = ModelCheckpoint(weight_fn, verbose=1, mode='max', monitor='val_acc', save_best_only=True, save_weights_only=True)\n",
    "stop = EarlyStopping(monitor='val_loss', patience=15)\n",
    "callback_list = [model_checkpoint, stop]\n",
    "optm = Adam(lr=LEARNING_RATE)\n",
    "\n",
    "model = model1()\n",
    "\n",
    "model.compile(optimizer=optm, loss='categorical_crossentropy', metrics=['accuracy'])\n",
    "history = model.fit(X_train, y_train, batch_size=BATCH_SIZE, epochs=N_EPOCHS, callbacks = callback_list, verbose=2, validation_data=(X_val, y_val))"
   ]
  },
  {
   "cell_type": "markdown",
   "metadata": {},
   "source": [
    "#### Prediction "
   ]
  },
  {
   "cell_type": "code",
   "execution_count": 15,
   "metadata": {},
   "outputs": [
    {
     "name": "stdout",
     "output_type": "stream",
     "text": [
      "-------------------- Result -----------------------\n",
      "Accuracy: 0.9881656804733728\n",
      "              precision    recall  f1-score   support\n",
      "\n",
      "           0       0.98      0.94      0.96       212\n",
      "           1       1.00      1.00      1.00       676\n",
      "           2       0.97      0.99      0.98       140\n",
      "           3       0.99      0.94      0.96        78\n",
      "           4       0.95      0.99      0.97       258\n",
      "           5       1.00      1.00      1.00       833\n",
      "\n",
      "   micro avg       0.99      0.99      0.99      2197\n",
      "   macro avg       0.98      0.98      0.98      2197\n",
      "weighted avg       0.99      0.99      0.99      2197\n",
      "\n",
      "[[200   0   0   0  12   0]\n",
      " [  1 674   0   0   1   0]\n",
      " [  0   0 139   1   0   0]\n",
      " [  0   1   4  73   0   0]\n",
      " [  2   0   0   0 255   1]\n",
      " [  2   1   0   0   0 830]]\n"
     ]
    }
   ],
   "source": [
    "model.load_weights(weight_fn)\n",
    "prediction = model.predict(X_test);\n",
    "p_pred = np.argmax(prediction, axis=1)\n",
    "p_test = np.argmax(y_test, axis=1)\n",
    "    \n",
    "cr = classification_report(p_test, p_pred)\n",
    "cm = confusion_matrix(p_test, p_pred)\n",
    "    \n",
    "print(\"-------------------- Result -----------------------\")\n",
    "acc = np.sum(p_pred == p_test)/p_pred.shape[0]\n",
    "print('Accuracy: ' + str(acc))\n",
    "print(cr)\n",
    "print(cm)"
   ]
  },
  {
   "cell_type": "markdown",
   "metadata": {},
   "source": [
    "#### Loss and accuracy "
   ]
  },
  {
   "cell_type": "code",
   "execution_count": 16,
   "metadata": {},
   "outputs": [
    {
     "data": {
      "image/png": "[encoded data removed]",
      "text/plain": [
       "<Figure size 432x288 with 1 Axes>"
      ]
     },
     "metadata": {
      "needs_background": "light"
     },
     "output_type": "display_data"
    }
   ],
   "source": [
    "# summarize history for accuracy\n",
    "plt.plot(history.history['acc'])\n",
    "plt.plot(history.history['val_acc'])\n",
    "plt.title('model accuracy')\n",
    "plt.ylabel('accuracy')\n",
    "plt.xlabel('epoch')\n",
    "plt.legend(['train', 'test'], loc='upper left')\n",
    "plt.show()"
   ]
  },
  {
   "cell_type": "code",
   "execution_count": 17,
   "metadata": {},
   "outputs": [
    {
     "data": {
      "image/png": "[encoded data removed]",
      "text/plain": [
       "<Figure size 432x288 with 1 Axes>"
      ]
     },
     "metadata": {
      "needs_background": "light"
     },
     "output_type": "display_data"
    }
   ],
   "source": [
    "# summarize history for loss\n",
    "plt.plot(history.history['loss'])\n",
    "plt.plot(history.history['val_loss'])\n",
    "plt.title('model loss')\n",
    "plt.ylabel('loss')\n",
    "plt.xlabel('epoch')\n",
    "plt.legend(['train', 'test'], loc='upper left')\n",
    "plt.show()"
   ]
  },
  {
   "cell_type": "code",
   "execution_count": 18,
   "metadata": {},
   "outputs": [
    {
     "data": {
      "image/png": "[encoded data removed]",
      "text/plain": [
       "<Figure size 576x504 with 2 Axes>"
      ]
     },
     "metadata": {
      "needs_background": "light"
     },
     "output_type": "display_data"
    }
   ],
   "source": [
    "# CONFUSION MATRIX\n",
    "plt.figure(figsize=(8, 7))\n",
    "sns.heatmap(cm/(np.sum(cm, axis=1, keepdims=1)), xticklabels=LABELS, yticklabels=LABELS, annot=True);\n",
    "plt.title(\"Confusion matrix\")\n",
    "plt.ylabel('True label')\n",
    "plt.xlabel('Predicted label')\n",
    "plt.show()"
   ]
  },
  {
   "cell_type": "code",
   "execution_count": null,
   "metadata": {},
   "outputs": [],
   "source": []
  }
 ],
 "metadata": {
  "kernelspec": {
   "display_name": "Python 3",
   "language": "python",
   "name": "python3"
  },
  "language_info": {
   "codemirror_mode": {
    "name": "ipython",
    "version": 3
   },
   "file_extension": ".py",
   "mimetype": "text/x-python",
   "name": "python",
   "nbconvert_exporter": "python",
   "pygments_lexer": "ipython3",
   "version": "3.7.1"
  }
 },
 "nbformat": 4,
 "nbformat_minor": 2
}
