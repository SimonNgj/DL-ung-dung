{
 "cells": [
  {
   "cell_type": "code",
   "execution_count": 23,
   "metadata": {},
   "outputs": [],
   "source": [
    "import numpy as np\n",
    "import pandas as pd\n",
    "import tensorflow as tf\n",
    "import seaborn as sns\n",
    "from sklearn.preprocessing import LabelEncoder\n",
    "from scipy import stats\n",
    "from sklearn import metrics\n",
    "from sklearn.model_selection import train_test_split\n",
    "from sklearn.metrics import classification_report\n",
    "from sklearn.metrics import confusion_matrix\n",
    "import matplotlib.pyplot as plt\n",
    "import keras\n",
    "from keras.utils import to_categorical\n",
    "import keras.backend as K\n",
    "from keras.callbacks import Callback\n",
    "from keras.callbacks import EarlyStopping\n",
    "from keras.layers import TimeDistributed\n",
    "\n",
    "import torch \n",
    "import torch.nn as nn\n",
    "import torchvision\n",
    "import torch.nn.functional as F\n",
    "from torch.autograd import Variable\n",
    "import torchvision.transforms as transforms\n",
    "from torch.utils.data import DataLoader,Dataset"
   ]
  },
  {
   "cell_type": "code",
   "execution_count": 24,
   "metadata": {},
   "outputs": [],
   "source": [
    "##################################################\n",
    "### GLOBAL VARIABLES\n",
    "##################################################\n",
    "COLUMN_NAMES = [\n",
    "    'user',\n",
    "    'activity',\n",
    "    'timestamp',\n",
    "    'x-axis',\n",
    "    'y-axis',\n",
    "    'z-axis'\n",
    "]\n",
    "\n",
    "LABELS = [\n",
    "    'Downstairs',\n",
    "    'Jogging',\n",
    "    'Sitting',\n",
    "    'Standing',\n",
    "    'Upstairs',\n",
    "    'Walking'\n",
    "]\n",
    "\n",
    "DATA_PATH = 'data/WISDM_ar_v1.1_raw.txt'\n",
    "data = pd.read_csv(DATA_PATH, header=None, names=COLUMN_NAMES)\n",
    "data['z-axis'].replace({';': ''}, regex=True, inplace=True)\n",
    "data = data.dropna()"
   ]
  },
  {
   "cell_type": "code",
   "execution_count": 44,
   "metadata": {},
   "outputs": [],
   "source": [
    "RANDOM_SEED = 13\n",
    "\n",
    "# Data preprocessing\n",
    "TIME_STEP = 100\n",
    "\n",
    "# Model\n",
    "N_CLASSES = 6\n",
    "N_FEATURES = 3  # x-acceleration, y-acceleration, z-acceleration\n",
    "\n",
    "# Hyperparameters\n",
    "N_EPOCHS = 10\n",
    "LEARNING_RATE = 0.0025\n",
    "\n",
    "# Hyperparameters optimized\n",
    "SEGMENT_TIME_SIZE = 180\n",
    "BATCH_SIZE = 64"
   ]
  },
  {
   "cell_type": "code",
   "execution_count": 36,
   "metadata": {},
   "outputs": [
    {
     "name": "stdout",
     "output_type": "stream",
     "text": [
      "X train size:  6588\n",
      "X test size:  2197\n",
      "X val size:  2196\n",
      "y train size:  6588\n",
      "y test size:  2197\n",
      "y val size:  2196\n"
     ]
    }
   ],
   "source": [
    "# DATA PREPROCESSING\n",
    "data_convoluted = []\n",
    "labels = []\n",
    "\n",
    "# Slide a \"SEGMENT_TIME_SIZE\" wide window with a step size of \"TIME_STEP\"\n",
    "for i in range(0, len(data) - SEGMENT_TIME_SIZE, TIME_STEP):\n",
    "    x = data['x-axis'].values[i: i + SEGMENT_TIME_SIZE]\n",
    "    y = data['y-axis'].values[i: i + SEGMENT_TIME_SIZE]\n",
    "    z = data['z-axis'].values[i: i + SEGMENT_TIME_SIZE]\n",
    "    data_convoluted.append([x, y, z])\n",
    "\n",
    "    # Label for a data window is the label that appears most commonly\n",
    "    label = stats.mode(data['activity'][i: i + SEGMENT_TIME_SIZE])[0][0]\n",
    "    labels.append(label)\n",
    "\n",
    "# Convert to numpy\n",
    "data_convoluted = np.asarray(data_convoluted, dtype=np.float32).transpose(0, 2, 1)\n",
    "\n",
    "# Integer encoding\n",
    "label_encoder = LabelEncoder()\n",
    "labels_int = label_encoder.fit_transform(labels)\n",
    "\n",
    "# SPLIT INTO TRAINING AND TEST SETS\n",
    "X_train1, X_test, y_train1, y_test = train_test_split(data_convoluted, labels_int, test_size=0.2, random_state=RANDOM_SEED)\n",
    "X_train, X_val, y_train, y_val = train_test_split(X_train1, y_train1, test_size=0.25, random_state=RANDOM_SEED)\n",
    "print(\"X train size: \", len(X_train))\n",
    "print(\"X test size: \", len(X_test))\n",
    "print(\"X val size: \", len(X_val))\n",
    "print(\"y train size: \", len(y_train))\n",
    "print(\"y test size: \", len(y_test))\n",
    "print(\"y val size: \", len(y_val))"
   ]
  },
  {
   "cell_type": "code",
   "execution_count": 13,
   "metadata": {},
   "outputs": [
    {
     "data": {
      "text/plain": [
       "array([0, 1, 1, 5, 5, 5, 0, 5, 1, 2, 5, 5, 5, 1, 4, 5, 5, 1, 4, 1, 5, 5,\n",
       "       5, 0, 4, 1, 1, 5, 5, 5, 1, 1, 2, 1, 1, 3, 5, 5, 5, 5, 1, 5, 1, 1,\n",
       "       1, 1, 5, 5, 5, 1, 3, 4, 1, 1, 4, 1, 5, 5, 2, 0, 5, 1, 1, 1, 1, 4,\n",
       "       5, 4, 0, 5], dtype=int64)"
      ]
     },
     "execution_count": 13,
     "metadata": {},
     "output_type": "execute_result"
    }
   ],
   "source": [
    "y_val[10:80]"
   ]
  },
  {
   "cell_type": "code",
   "execution_count": 59,
   "metadata": {},
   "outputs": [
    {
     "data": {
      "text/plain": [
       "(10981,)"
      ]
     },
     "execution_count": 59,
     "metadata": {},
     "output_type": "execute_result"
    }
   ],
   "source": [
    "np.shape(labels_int)"
   ]
  },
  {
   "cell_type": "code",
   "execution_count": 60,
   "metadata": {},
   "outputs": [
    {
     "data": {
      "text/plain": [
       "(6588, 3, 180)"
      ]
     },
     "execution_count": 60,
     "metadata": {},
     "output_type": "execute_result"
    }
   ],
   "source": [
    "np.shape(X_train)"
   ]
  },
  {
   "cell_type": "code",
   "execution_count": 62,
   "metadata": {},
   "outputs": [
    {
     "data": {
      "text/plain": [
       "list"
      ]
     },
     "execution_count": 62,
     "metadata": {},
     "output_type": "execute_result"
    }
   ],
   "source": [
    "type(X_train)"
   ]
  },
  {
   "cell_type": "code",
   "execution_count": 37,
   "metadata": {},
   "outputs": [],
   "source": [
    "x_train = X_train.reshape(X_train.shape[0], N_FEATURES, SEGMENT_TIME_SIZE)\n",
    "x_test = X_test.reshape(X_test.shape[0], N_FEATURES, SEGMENT_TIME_SIZE)\n",
    "x_val = X_val.reshape(X_val.shape[0], N_FEATURES, SEGMENT_TIME_SIZE)\n",
    "input_shape = (N_FEATURES, SEGMENT_TIME_SIZE)"
   ]
  },
  {
   "cell_type": "code",
   "execution_count": 91,
   "metadata": {},
   "outputs": [
    {
     "data": {
      "text/plain": [
       "(6588, 3, 180)"
      ]
     },
     "execution_count": 91,
     "metadata": {},
     "output_type": "execute_result"
    }
   ],
   "source": [
    "x_train.shape"
   ]
  },
  {
   "cell_type": "code",
   "execution_count": 92,
   "metadata": {},
   "outputs": [
    {
     "data": {
      "text/plain": [
       "(2197, 3, 180)"
      ]
     },
     "execution_count": 92,
     "metadata": {},
     "output_type": "execute_result"
    }
   ],
   "source": [
    "x_test.shape"
   ]
  },
  {
   "cell_type": "code",
   "execution_count": 93,
   "metadata": {},
   "outputs": [
    {
     "data": {
      "text/plain": [
       "numpy.ndarray"
      ]
     },
     "execution_count": 93,
     "metadata": {},
     "output_type": "execute_result"
    }
   ],
   "source": [
    "type(x_test)"
   ]
  },
  {
   "cell_type": "code",
   "execution_count": 79,
   "metadata": {},
   "outputs": [
    {
     "data": {
      "text/plain": [
       "(6588,)"
      ]
     },
     "execution_count": 79,
     "metadata": {},
     "output_type": "execute_result"
    }
   ],
   "source": [
    "y_train_.shape"
   ]
  },
  {
   "cell_type": "code",
   "execution_count": 17,
   "metadata": {},
   "outputs": [
    {
     "data": {
      "text/plain": [
       "numpy.ndarray"
      ]
     },
     "execution_count": 17,
     "metadata": {},
     "output_type": "execute_result"
    }
   ],
   "source": [
    "type(y_train)"
   ]
  },
  {
   "cell_type": "code",
   "execution_count": 27,
   "metadata": {},
   "outputs": [
    {
     "data": {
      "text/plain": [
       "(array([0, 1, 2, 3, 4, 5], dtype=int64),\n",
       " array([ 591, 2036,  352,  312,  728, 2569], dtype=int64))"
      ]
     },
     "execution_count": 27,
     "metadata": {},
     "output_type": "execute_result"
    }
   ],
   "source": [
    "np.unique(y_train, return_counts=True)"
   ]
  },
  {
   "cell_type": "code",
   "execution_count": 28,
   "metadata": {},
   "outputs": [
    {
     "data": {
      "text/plain": [
       "(array([0, 1, 2, 3, 4, 5], dtype=int64),\n",
       " array([212, 676, 140,  78, 258, 833], dtype=int64))"
      ]
     },
     "execution_count": 28,
     "metadata": {},
     "output_type": "execute_result"
    }
   ],
   "source": [
    "np.unique(y_test, return_counts=True)"
   ]
  },
  {
   "cell_type": "code",
   "execution_count": 29,
   "metadata": {},
   "outputs": [
    {
     "data": {
      "text/plain": [
       "(array([0, 1, 2, 3, 4, 5], dtype=int64),\n",
       " array([199, 708, 110,  92, 245, 842], dtype=int64))"
      ]
     },
     "execution_count": 29,
     "metadata": {},
     "output_type": "execute_result"
    }
   ],
   "source": [
    "np.unique(y_val, return_counts=True)"
   ]
  },
  {
   "cell_type": "markdown",
   "metadata": {},
   "source": [
    "## pytorch dataset class "
   ]
  },
  {
   "cell_type": "code",
   "execution_count": 38,
   "metadata": {},
   "outputs": [],
   "source": [
    "# Define a pytorch dataloader for this dataset\n",
    "class HAR(Dataset):\n",
    "    def __init__(self, dfX, dfY):\n",
    "        self.dfX = dfX\n",
    "        self.dfY = dfY\n",
    "        #self.transform = transform\n",
    "\n",
    "    def __len__(self):\n",
    "        return len(self.dfX)\n",
    "\n",
    "    def __getitem__(self, index):\n",
    "        # Load data and get label\n",
    "        X = self.dfX[index] \n",
    "        y = torch.tensor(int(self.dfY[index]))\n",
    "\n",
    "        return X, y"
   ]
  },
  {
   "cell_type": "code",
   "execution_count": 39,
   "metadata": {},
   "outputs": [],
   "source": [
    "# Device configuration\n",
    "device = torch.device('cuda:0' if torch.cuda.is_available() else 'cpu')\n",
    "\n",
    "# Define the parameters for the dataloader\n",
    "params = {'batch_size': BATCH_SIZE,\n",
    "          'shuffle': True,\n",
    "          'num_workers': 0}"
   ]
  },
  {
   "cell_type": "code",
   "execution_count": 40,
   "metadata": {},
   "outputs": [],
   "source": [
    "training_set = HAR(x_train, y_train)\n",
    "train_loader = DataLoader(training_set, **params)\n",
    "\n",
    "testing_set = HAR(x_test, y_test)\n",
    "test_loader = DataLoader(testing_set, **params)\n",
    "\n",
    "validation_set = HAR(x_val, y_val)\n",
    "val_loader = DataLoader(validation_set, **params)"
   ]
  },
  {
   "cell_type": "code",
   "execution_count": 41,
   "metadata": {},
   "outputs": [
    {
     "name": "stdout",
     "output_type": "stream",
     "text": [
      "ConvNet(\n",
      "  (conv1): Conv1d(3, 128, kernel_size=(8,), stride=(1,))\n",
      "  (bn1): BatchNorm1d(128, eps=1e-05, momentum=0.1, affine=True, track_running_stats=True)\n",
      "  (conv2): Conv1d(128, 256, kernel_size=(5,), stride=(1,))\n",
      "  (bn2): BatchNorm1d(256, eps=1e-05, momentum=0.1, affine=True, track_running_stats=True)\n",
      "  (conv3): Conv1d(256, 128, kernel_size=(3,), stride=(1,))\n",
      "  (bn3): BatchNorm1d(128, eps=1e-05, momentum=0.1, affine=True, track_running_stats=True)\n",
      "  (fc1): Linear(in_features=128, out_features=6, bias=True)\n",
      ")\n"
     ]
    }
   ],
   "source": [
    "# Convolutional neural network (two convolutional layers)\n",
    "class ConvNet(nn.Module):\n",
    "    def __init__(self, num_classes=N_CLASSES):\n",
    "        super(ConvNet, self).__init__()\n",
    "        self.conv1 = nn.Conv1d(3, 128, kernel_size=8, padding=0)\n",
    "        self.bn1 = nn.BatchNorm1d(128)\n",
    "        self.conv2 = nn.Conv1d(128, 256, kernel_size=5, padding=0)\n",
    "        self.bn2 = nn.BatchNorm1d(256)\n",
    "        self.conv3 = nn.Conv1d(256, 128, kernel_size=3, padding=0)\n",
    "        self.bn3 = nn.BatchNorm1d(128)\n",
    "        self.fc1 = nn.Linear(128, num_classes)\n",
    "        \n",
    "    def forward(self, x):\n",
    "        #print(np.shape(x))\n",
    "        out = F.relu(self.bn1(self.conv1(x)))\n",
    "        #print(np.shape(out))\n",
    "        out = F.relu(self.bn2(self.conv2(out)))\n",
    "        #print(np.shape(out))\n",
    "        out = F.relu(self.bn3(self.conv3(out)))\n",
    "        #print(np.shape(out))\n",
    "        out = F.adaptive_avg_pool2d(out, (128,1))\n",
    "        #print(np.shape(out))\n",
    "        out = out.view(out.shape[0], -1)\n",
    "        #print(np.shape(out))\n",
    "        out = F.relu(self.fc1(out))\n",
    "        #print(np.shape(out))\n",
    "        out = F.log_softmax(out, dim=1)\n",
    "        #print(np.shape(out))\n",
    "        #print(\"-------------\")\n",
    "        return out\n",
    "\n",
    "model = ConvNet(N_CLASSES).to(device)\n",
    "print(model)"
   ]
  },
  {
   "cell_type": "code",
   "execution_count": 45,
   "metadata": {},
   "outputs": [
    {
     "name": "stdout",
     "output_type": "stream",
     "text": [
      "Epoch [1/10], Step [100/6588], Loss: 0.8954\n",
      "Epoch [2/10], Step [100/6588], Loss: 1.0594\n",
      "Epoch [3/10], Step [100/6588], Loss: 1.2871\n",
      "Epoch [4/10], Step [100/6588], Loss: 1.1468\n",
      "Epoch [5/10], Step [100/6588], Loss: 1.0819\n",
      "Epoch [6/10], Step [100/6588], Loss: 1.0836\n",
      "Epoch [7/10], Step [100/6588], Loss: 1.2191\n",
      "Epoch [8/10], Step [100/6588], Loss: 0.9196\n",
      "Epoch [9/10], Step [100/6588], Loss: 1.1374\n",
      "Epoch [10/10], Step [100/6588], Loss: 0.4365\n"
     ]
    }
   ],
   "source": [
    "# Loss and optimizer\n",
    "criterion = nn.CrossEntropyLoss()\n",
    "optimizer = torch.optim.Adam(model.parameters(), lr=LEARNING_RATE)\n",
    "#scheduler = lr_scheduler.ReduceLROnPlateau(optimizer, 'min', factor=0.2, patience=5, cooldown=5)\n",
    "\n",
    "# Train the model\n",
    "total_step = len(y_train)\n",
    "for epoch in range(N_EPOCHS):\n",
    "    for i, (images, labels) in enumerate(train_loader):\n",
    "        #print(\"Hello\")\n",
    "        images = images.to(device)\n",
    "        labels = labels.to(device)\n",
    "        #print(\"Images shape = \", images.shape)\n",
    "        #print(\"Labels shape = \", labels.shape)\n",
    "        \n",
    "        # Forward pass\n",
    "        outputs = model(images)\n",
    "        loss = criterion(outputs, labels)\n",
    "        \n",
    "        # Backward and optimize\n",
    "        optimizer.zero_grad()\n",
    "        loss.backward()\n",
    "        optimizer.step()\n",
    "        \n",
    "        if (i+1) % 100 == 0:\n",
    "            print ('Epoch [{}/{}], Step [{}/{}], Loss: {:.4f}' .format(epoch+1, N_EPOCHS, i+1, total_step, loss.item()))"
   ]
  },
  {
   "cell_type": "code",
   "execution_count": 46,
   "metadata": {},
   "outputs": [
    {
     "name": "stdout",
     "output_type": "stream",
     "text": [
      "Test Accuracy on the test set: 82.84023668639053 %\n"
     ]
    }
   ],
   "source": [
    "# Test the model\n",
    "model.eval()  # eval mode (batchnorm uses moving mean/variance instead of mini-batch mean/variance)\n",
    "with torch.no_grad():\n",
    "    correct = 0\n",
    "    total = 0\n",
    "    for images, labels in test_loader:\n",
    "        images = images.to(device)\n",
    "        labels = labels.to(device)\n",
    "        outputs = model(images)\n",
    "        _, predicted = torch.max(outputs.data, 1)\n",
    "        total += labels.size(0)\n",
    "        #print(\"Predicted: \", predicted)\n",
    "        #print(\"Labels: \", labels)\n",
    "        correct += (predicted == labels).sum().item()\n",
    "\n",
    "    print('Test Accuracy on the test set: {} %'.format(100 * correct / total))\n",
    "\n",
    "# Save the model checkpoint\n",
    "torch.save(model.state_dict(), 'model.pth')"
   ]
  },
  {
   "cell_type": "code",
   "execution_count": 48,
   "metadata": {},
   "outputs": [
    {
     "name": "stdout",
     "output_type": "stream",
     "text": [
      "Predicted:  tensor([3, 5, 5, 0, 2, 5, 1, 1, 5, 1, 5, 1, 5, 1, 5, 5, 1, 5, 0, 5, 3, 1, 5, 1,\n",
      "        0, 5, 1, 5, 3, 1, 1, 1, 1, 5, 1, 5, 3, 5, 1, 1, 5, 5, 5, 1, 2, 1, 5, 0,\n",
      "        1, 5, 1, 1, 1, 1, 3, 5, 1, 1, 1, 0, 5, 0, 5, 5])\n",
      "Labels:  tensor([3, 5, 5, 5, 2, 5, 4, 1, 5, 1, 5, 1, 5, 1, 5, 5, 1, 5, 0, 5, 2, 1, 5, 1,\n",
      "        0, 1, 1, 4, 3, 4, 1, 1, 1, 5, 1, 5, 3, 4, 1, 1, 4, 5, 5, 1, 2, 1, 5, 0,\n",
      "        1, 5, 1, 1, 1, 1, 3, 5, 1, 1, 1, 0, 5, 0, 5, 5])\n",
      "---------------o0o----------------\n",
      "Predicted:  tensor([5, 1, 1, 5, 5, 5, 1, 5, 1, 0, 1, 0, 1, 1, 1, 5, 5, 1, 5, 1, 5, 5, 1, 1,\n",
      "        1, 1, 3, 5, 1, 5, 3, 5, 5, 1, 0, 3, 3, 1, 3, 1, 5, 1, 0, 1, 5, 0, 5, 5,\n",
      "        0, 1, 1, 5, 5, 1, 5, 0, 0, 2, 3, 5, 5, 5, 3, 1])\n",
      "Labels:  tensor([5, 1, 1, 5, 5, 5, 1, 5, 1, 4, 1, 0, 1, 1, 1, 4, 5, 1, 0, 1, 5, 4, 1, 1,\n",
      "        1, 1, 3, 5, 1, 4, 3, 5, 5, 1, 0, 4, 3, 1, 3, 1, 5, 1, 4, 1, 5, 0, 0, 1,\n",
      "        5, 1, 1, 5, 4, 1, 5, 4, 4, 2, 2, 5, 1, 5, 3, 1])\n",
      "---------------o0o----------------\n",
      "Predicted:  tensor([1, 1, 5, 5, 5, 1, 5, 2, 5, 0, 5, 1, 1, 5, 1, 5, 5, 5, 5, 1, 5, 0, 5, 3,\n",
      "        5, 1, 5, 0, 5, 1, 2, 5, 5, 5, 1, 1, 5, 1, 5, 5, 5, 5, 1, 5, 0, 5, 5, 0,\n",
      "        5, 3, 5, 5, 5, 5, 1, 3, 3, 5, 5, 5, 1, 1, 5, 2])\n",
      "Labels:  tensor([1, 1, 5, 5, 5, 1, 4, 2, 5, 0, 5, 1, 1, 5, 1, 5, 5, 5, 5, 1, 5, 0, 5, 3,\n",
      "        4, 1, 5, 5, 5, 1, 2, 4, 5, 5, 1, 1, 5, 1, 5, 5, 5, 0, 1, 0, 0, 5, 5, 0,\n",
      "        5, 3, 5, 5, 4, 5, 1, 3, 3, 5, 5, 0, 1, 1, 4, 2])\n",
      "---------------o0o----------------\n",
      "Predicted:  tensor([2, 3, 1, 5, 5, 3, 2, 1, 1, 5, 5, 1, 1, 1, 5, 1, 5, 2, 5, 3, 5, 5, 1, 5,\n",
      "        1, 5, 5, 1, 1, 5, 5, 1, 5, 1, 1, 5, 1, 0, 1, 3, 1, 5, 5, 5, 5, 1, 1, 1,\n",
      "        5, 1, 5, 1, 1, 5, 5, 5, 1, 5, 1, 5, 1, 5, 1, 1])\n",
      "Labels:  tensor([2, 3, 1, 4, 5, 3, 3, 1, 1, 5, 4, 1, 1, 1, 5, 1, 1, 2, 5, 3, 5, 5, 4, 5,\n",
      "        1, 5, 5, 1, 4, 4, 5, 1, 5, 1, 1, 5, 1, 4, 1, 3, 1, 5, 4, 4, 5, 1, 1, 1,\n",
      "        5, 1, 5, 1, 1, 0, 5, 4, 1, 4, 1, 5, 1, 4, 1, 1])\n",
      "---------------o0o----------------\n",
      "Predicted:  tensor([0, 1, 3, 1, 1, 5, 1, 0, 5, 5, 3, 5, 1, 1, 1, 1, 0, 2, 5, 1, 5, 3, 0, 1,\n",
      "        5, 5, 5, 1, 0, 5, 1, 1, 0, 1, 1, 1, 5, 5, 5, 5, 1, 1, 5, 1, 3, 5, 2, 1,\n",
      "        1, 0, 1, 1, 3, 1, 1, 1, 3, 5, 5, 5, 1, 5, 5, 1])\n",
      "Labels:  tensor([0, 1, 3, 1, 1, 5, 1, 0, 0, 5, 3, 5, 1, 1, 1, 5, 0, 2, 5, 1, 5, 3, 0, 1,\n",
      "        5, 5, 5, 1, 4, 4, 1, 1, 4, 1, 1, 1, 1, 5, 5, 5, 1, 1, 5, 1, 3, 5, 3, 1,\n",
      "        1, 0, 1, 1, 3, 1, 1, 1, 3, 5, 5, 5, 1, 5, 4, 1])\n",
      "---------------o0o----------------\n",
      "Predicted:  tensor([5, 5, 1, 5, 5, 5, 1, 5, 5, 5, 5, 2, 1, 0, 5, 2, 1, 5, 3, 5, 5, 1, 5, 1,\n",
      "        2, 5, 1, 2, 0, 5, 0, 5, 5, 3, 5, 5, 5, 1, 5, 5, 0, 5, 1, 0, 0, 5, 1, 3,\n",
      "        5, 0, 1, 1, 5, 5, 1, 1, 1, 5, 0, 1, 5, 1, 1, 1])\n",
      "Labels:  tensor([5, 4, 1, 5, 5, 0, 1, 5, 0, 4, 5, 2, 1, 0, 5, 2, 1, 5, 2, 5, 5, 1, 5, 1,\n",
      "        2, 5, 1, 2, 0, 5, 0, 5, 5, 3, 5, 5, 4, 1, 5, 5, 0, 5, 1, 4, 4, 5, 1, 3,\n",
      "        1, 4, 1, 1, 0, 5, 4, 1, 1, 5, 0, 1, 5, 1, 1, 1])\n",
      "---------------o0o----------------\n",
      "Predicted:  tensor([0, 5, 0, 0, 1, 0, 1, 5, 0, 5, 0, 3, 1, 1, 1, 1, 0, 1, 1, 5, 5, 1, 3, 5,\n",
      "        3, 5, 5, 1, 1, 0, 5, 5, 1, 1, 5, 1, 5, 1, 1, 5, 5, 0, 0, 1, 5, 5, 3, 3,\n",
      "        5, 1, 5, 5, 1, 5, 5, 1, 0, 5, 5, 5, 0, 1, 5, 0])\n",
      "Labels:  tensor([0, 5, 0, 0, 1, 0, 1, 5, 5, 5, 0, 3, 1, 1, 1, 1, 0, 1, 1, 5, 4, 1, 3, 5,\n",
      "        3, 5, 5, 1, 1, 0, 4, 5, 1, 1, 0, 1, 4, 1, 1, 5, 5, 0, 4, 1, 5, 5, 3, 3,\n",
      "        5, 1, 5, 5, 1, 5, 5, 1, 0, 4, 5, 4, 4, 1, 5, 0])\n",
      "---------------o0o----------------\n",
      "Predicted:  tensor([1, 1, 5, 1, 5, 1, 1, 5, 5, 5, 5, 5, 5, 5, 5, 5, 1, 5, 5, 1, 5, 5, 1, 0,\n",
      "        1, 5, 0, 5, 5, 1, 0, 1, 0, 5, 1, 1, 0, 1, 5, 0, 5, 5, 2, 5, 5, 5, 5, 1,\n",
      "        0, 5, 1, 1, 5, 5, 1, 1, 1, 5, 5, 5, 3, 5, 0, 5])\n",
      "Labels:  tensor([1, 1, 5, 1, 5, 1, 1, 5, 5, 5, 4, 5, 5, 5, 4, 5, 1, 5, 5, 1, 5, 5, 1, 0,\n",
      "        1, 5, 4, 4, 5, 1, 4, 1, 4, 5, 1, 1, 4, 1, 0, 0, 5, 5, 2, 5, 5, 5, 5, 4,\n",
      "        0, 5, 1, 1, 5, 5, 1, 1, 1, 4, 5, 5, 2, 5, 0, 4])\n",
      "---------------o0o----------------\n",
      "Predicted:  tensor([5, 3, 0, 5, 1, 5, 1, 1, 5, 3, 1, 3, 5, 5, 5, 5, 5, 5, 5, 5, 5, 5, 1, 2,\n",
      "        0, 1, 3, 5, 0, 5, 1, 0, 5, 2, 1, 1, 5, 5, 0, 5, 3, 1, 5, 5, 1, 5, 1, 5,\n",
      "        1, 5, 5, 1, 5, 1, 5, 5, 5, 1, 5, 5, 5, 5, 1, 5])\n",
      "Labels:  tensor([5, 3, 0, 5, 1, 5, 1, 1, 4, 3, 1, 4, 0, 5, 5, 5, 0, 5, 5, 5, 5, 4, 1, 2,\n",
      "        4, 1, 3, 5, 0, 4, 1, 0, 5, 2, 1, 1, 4, 4, 0, 5, 3, 1, 5, 5, 1, 5, 1, 5,\n",
      "        1, 4, 5, 1, 5, 1, 5, 5, 5, 1, 5, 4, 5, 0, 1, 5])\n",
      "---------------o0o----------------\n",
      "Predicted:  tensor([1, 1, 1, 5, 1, 0, 5, 1, 1, 5, 1, 1, 1, 1, 5, 5, 5, 1, 3, 5, 0, 5, 5, 1,\n",
      "        5, 1, 1, 5, 3, 5, 0, 1, 1, 0, 5, 1, 0, 0, 0, 1, 5, 1, 3, 2, 1, 1, 5, 5,\n",
      "        1, 5, 2, 3, 5, 5, 0, 1, 1, 1, 1, 1, 5, 5, 1, 5])\n",
      "Labels:  tensor([1, 1, 1, 5, 1, 0, 5, 1, 1, 5, 1, 1, 1, 1, 0, 5, 4, 1, 2, 5, 0, 4, 5, 1,\n",
      "        5, 1, 1, 5, 3, 5, 4, 1, 1, 0, 5, 1, 0, 4, 0, 1, 5, 1, 3, 2, 1, 4, 5, 5,\n",
      "        1, 5, 2, 3, 5, 4, 4, 1, 1, 1, 1, 1, 5, 5, 1, 5])\n",
      "---------------o0o----------------\n",
      "Predicted:  tensor([5, 5, 5, 1, 3, 3, 5, 5, 0, 5, 1, 5, 1, 5, 5, 5, 5, 3, 5, 1, 1, 0, 5, 0,\n",
      "        5, 5, 0, 5, 2, 1, 5, 0, 1, 1, 5, 1, 5, 5, 3, 5, 5, 0, 1, 1, 1, 1, 5, 5,\n",
      "        5, 5, 1, 5, 1, 0, 5, 1, 0, 1, 1, 1, 5, 0, 5, 5])\n",
      "Labels:  tensor([5, 5, 5, 1, 3, 3, 5, 5, 0, 5, 1, 5, 1, 4, 5, 4, 5, 2, 4, 1, 1, 5, 5, 0,\n",
      "        5, 5, 0, 0, 2, 1, 1, 4, 1, 1, 5, 1, 5, 5, 3, 5, 5, 4, 1, 1, 1, 1, 5, 0,\n",
      "        0, 5, 1, 5, 1, 4, 5, 1, 4, 1, 1, 1, 5, 0, 5, 4])\n",
      "---------------o0o----------------\n",
      "Predicted:  tensor([0, 5, 1, 5, 3, 5, 1, 1, 5, 5, 1, 1, 1, 5, 0, 1, 1, 5, 5, 1, 0, 5, 1, 5,\n",
      "        1, 5, 5, 1, 5, 5, 1, 5, 3, 5, 5, 5, 1, 5, 1, 5, 2, 0, 1, 5, 1, 5, 5, 5,\n",
      "        3, 5, 1, 5, 5, 5, 5, 5, 1, 5, 1, 1, 5, 1, 5, 0])\n",
      "Labels:  tensor([0, 5, 1, 5, 3, 0, 1, 1, 5, 0, 1, 1, 1, 5, 0, 1, 1, 4, 5, 1, 4, 5, 1, 5,\n",
      "        1, 5, 5, 1, 4, 5, 1, 5, 4, 4, 4, 5, 1, 5, 1, 5, 2, 4, 1, 4, 1, 0, 5, 5,\n",
      "        3, 5, 1, 4, 5, 5, 4, 5, 1, 5, 1, 1, 5, 1, 5, 4])\n",
      "---------------o0o----------------\n",
      "Predicted:  tensor([0, 5, 5, 1, 5, 1, 1, 1, 5, 3, 0, 5, 5, 0, 1, 1, 0, 5, 0, 0, 5, 0, 1, 1,\n",
      "        5, 5, 1, 2, 5, 0, 1, 5, 1, 1, 0, 5, 5, 0, 5, 0, 0, 5, 3, 5, 5, 0, 1, 5,\n",
      "        5, 1, 5, 5, 5, 5, 5, 5, 5, 1, 1, 5, 5, 5, 3, 1])\n",
      "Labels:  tensor([0, 4, 5, 1, 5, 1, 1, 1, 5, 3, 0, 0, 5, 4, 1, 1, 4, 5, 4, 0, 5, 4, 1, 1,\n",
      "        5, 5, 1, 2, 5, 4, 1, 5, 1, 1, 0, 4, 5, 0, 0, 0, 0, 5, 3, 5, 5, 0, 1, 5,\n",
      "        5, 1, 5, 5, 4, 5, 5, 5, 5, 1, 1, 5, 4, 5, 3, 1])\n",
      "---------------o0o----------------\n",
      "Predicted:  tensor([0, 5, 5, 0, 1, 5, 1, 0, 5, 2, 5, 1, 5, 5, 1, 1, 5, 5, 3, 0, 5, 1, 0, 1,\n",
      "        0, 5, 0, 0, 1, 5, 5, 2, 5, 5, 1, 5, 2, 3, 5, 5, 5, 0, 0, 1, 1, 0, 1, 1,\n",
      "        0, 0, 5, 0, 5, 1, 1, 5, 0, 5, 5, 2, 5, 5, 5, 1])\n",
      "Labels:  tensor([0, 5, 5, 0, 1, 5, 1, 4, 5, 2, 4, 1, 5, 5, 1, 1, 5, 4, 3, 0, 5, 1, 4, 1,\n",
      "        0, 5, 0, 0, 1, 5, 4, 2, 1, 5, 1, 5, 2, 2, 4, 5, 5, 0, 0, 1, 1, 0, 1, 1,\n",
      "        0, 4, 4, 4, 5, 1, 1, 5, 0, 5, 5, 2, 5, 4, 5, 1])\n",
      "---------------o0o----------------\n",
      "Predicted:  tensor([5, 1, 1, 5, 1, 1, 5, 3, 5, 0, 5, 0, 1, 1, 1, 1, 5, 5, 0, 1, 5, 1, 5, 1,\n",
      "        5, 5, 5, 1, 5, 1, 1, 5, 5, 1, 5, 1, 1, 5, 5, 1, 5, 5, 5, 1, 5, 5, 1, 5,\n",
      "        2, 5, 5, 2, 5, 1, 5, 5, 0, 0, 1, 1, 5, 1, 5, 5])\n",
      "Labels:  tensor([5, 1, 1, 1, 1, 1, 5, 3, 5, 4, 5, 4, 1, 1, 1, 1, 4, 5, 0, 1, 4, 1, 1, 1,\n",
      "        5, 5, 5, 1, 5, 1, 1, 5, 5, 1, 4, 1, 1, 5, 5, 1, 5, 0, 5, 1, 4, 5, 1, 5,\n",
      "        2, 5, 5, 2, 5, 1, 5, 5, 4, 0, 1, 1, 5, 1, 5, 5])\n",
      "---------------o0o----------------\n",
      "Predicted:  tensor([0, 5, 1, 5, 5, 5, 5, 3, 0, 5, 1, 5, 0, 5, 1, 5, 1, 1, 5, 1, 5, 5, 1, 1,\n",
      "        1, 5, 0, 0, 5, 5, 1, 1, 5, 1, 1, 5, 1, 0, 5, 5, 2, 0, 5, 1, 5, 0, 5, 1,\n",
      "        5, 5, 1, 2, 5, 1, 5, 5, 1, 1, 1, 5, 1, 0, 1, 1])\n",
      "Labels:  tensor([0, 4, 1, 5, 5, 5, 5, 3, 1, 5, 1, 5, 0, 5, 1, 5, 1, 1, 5, 1, 5, 5, 1, 1,\n",
      "        1, 5, 4, 0, 5, 4, 1, 1, 5, 1, 1, 5, 1, 0, 5, 5, 2, 1, 5, 1, 5, 0, 5, 1,\n",
      "        0, 5, 1, 2, 5, 1, 0, 4, 1, 4, 1, 5, 1, 5, 4, 1])\n",
      "---------------o0o----------------\n",
      "Predicted:  tensor([5, 1, 5, 5, 1, 1, 5, 0, 5, 5, 1, 1, 5, 5, 5, 0, 5, 1, 5, 2, 5, 1, 5, 1,\n",
      "        5, 5, 1, 5, 5, 1, 0, 5, 0, 1, 5, 0, 1, 1, 5, 5, 5, 5, 0, 5, 1, 5, 5, 1,\n",
      "        5, 5, 5, 1, 1, 1, 1, 5, 1, 3, 5, 5, 5, 0, 5, 1])\n",
      "Labels:  tensor([5, 1, 5, 5, 1, 1, 5, 0, 5, 5, 1, 1, 5, 5, 5, 4, 5, 1, 5, 2, 5, 1, 5, 1,\n",
      "        5, 4, 1, 5, 4, 1, 0, 5, 4, 1, 5, 1, 1, 1, 5, 5, 5, 5, 5, 4, 1, 5, 5, 1,\n"
     ]
    },
    {
     "name": "stdout",
     "output_type": "stream",
     "text": [
      "        4, 5, 5, 1, 1, 1, 1, 5, 1, 3, 0, 5, 1, 0, 4, 1])\n",
      "---------------o0o----------------\n",
      "Predicted:  tensor([2, 3, 1, 5, 1, 1, 5, 5, 1, 3, 2, 5, 1, 5, 0, 1, 5, 5, 5, 0, 3, 5, 5, 5,\n",
      "        1, 3, 1, 5, 5, 5, 1, 1, 1, 1, 1, 5, 0, 1, 5, 1, 2, 1, 1, 0, 1, 0, 5, 3,\n",
      "        5, 5, 2, 1, 1, 5, 1, 1, 5, 5, 5, 5, 0, 5, 5, 0])\n",
      "Labels:  tensor([3, 4, 1, 5, 1, 1, 5, 5, 1, 3, 2, 0, 1, 5, 4, 1, 5, 5, 4, 0, 3, 5, 5, 5,\n",
      "        1, 2, 1, 5, 0, 0, 1, 1, 1, 1, 1, 4, 4, 1, 5, 1, 2, 1, 1, 5, 1, 0, 5, 2,\n",
      "        5, 5, 2, 1, 1, 5, 1, 1, 5, 5, 5, 4, 4, 5, 0, 4])\n",
      "---------------o0o----------------\n",
      "Predicted:  tensor([1, 5, 1, 5, 1, 1, 3, 1, 2, 3, 1, 5, 1, 5, 1, 5, 5, 0, 1, 1, 1, 5, 5, 5,\n",
      "        5, 1, 5, 1, 5, 5, 1, 2, 5, 5, 0, 5, 5, 1, 1, 0, 5, 1, 5, 5, 5, 1, 5, 1,\n",
      "        1, 5, 1, 5, 5, 5, 0, 5, 5, 0, 1, 1, 5, 1, 5, 5])\n",
      "Labels:  tensor([1, 5, 1, 5, 1, 1, 3, 1, 2, 2, 1, 4, 1, 5, 1, 5, 5, 4, 1, 1, 1, 4, 5, 0,\n",
      "        5, 1, 5, 1, 5, 4, 1, 2, 4, 5, 0, 5, 4, 1, 1, 0, 5, 1, 5, 5, 5, 1, 5, 1,\n",
      "        1, 5, 1, 5, 0, 5, 0, 4, 5, 2, 1, 1, 5, 1, 5, 5])\n",
      "---------------o0o----------------\n",
      "Predicted:  tensor([1, 5, 5, 5, 1, 5, 5, 5, 2, 5, 5, 5, 5, 5, 1, 0, 5, 2, 5, 1, 1, 1, 2, 5,\n",
      "        0, 5, 1, 5, 1, 1, 5, 5, 5, 3, 5, 1, 5, 5, 5, 0, 3, 1, 5, 2, 5, 1, 1, 1,\n",
      "        1, 0, 5, 5, 2, 5, 5, 5, 2, 5, 0, 1, 1, 1, 1, 5])\n",
      "Labels:  tensor([1, 5, 5, 5, 1, 5, 5, 4, 2, 5, 5, 5, 5, 0, 1, 4, 5, 2, 5, 1, 1, 1, 3, 1,\n",
      "        4, 5, 1, 5, 1, 1, 5, 4, 5, 3, 4, 1, 5, 5, 5, 4, 2, 1, 5, 2, 5, 1, 1, 1,\n",
      "        1, 0, 5, 0, 2, 5, 5, 5, 2, 5, 5, 1, 1, 1, 1, 5])\n",
      "---------------o0o----------------\n",
      "Predicted:  tensor([5, 0, 3, 2, 0, 0, 5, 0, 5, 5, 5, 0, 0, 5, 5, 0, 3, 5, 2, 0, 5, 1, 1, 5,\n",
      "        5, 5, 5, 5, 5, 5, 3, 5, 2, 5, 1, 5, 2, 1, 0, 1, 1, 5, 5, 5, 0, 1, 5, 2,\n",
      "        5, 2, 1, 5, 5, 0, 5, 1, 0, 5, 5, 2, 5, 5, 5, 5])\n",
      "Labels:  tensor([5, 0, 2, 2, 0, 0, 5, 0, 5, 5, 4, 3, 4, 5, 5, 4, 3, 5, 2, 0, 5, 1, 1, 1,\n",
      "        5, 5, 5, 5, 5, 5, 2, 5, 2, 5, 1, 5, 2, 1, 0, 1, 1, 5, 5, 5, 0, 1, 5, 2,\n",
      "        5, 2, 1, 4, 5, 4, 5, 1, 4, 5, 4, 2, 4, 5, 5, 4])\n",
      "---------------o0o----------------\n",
      "Predicted:  tensor([5, 5, 5, 3, 5, 1, 1, 1, 1, 1, 5, 5, 5, 5, 5, 1, 3, 2, 3, 5, 0, 5, 3, 1,\n",
      "        1, 5, 5, 1, 5, 3, 5, 1, 5, 2, 2, 5, 5, 5, 1, 1, 0, 5, 0, 5, 5, 5, 0, 1,\n",
      "        5, 5, 0, 5, 5, 5, 5, 5, 5, 5, 1, 1, 1, 5, 1, 1])\n",
      "Labels:  tensor([5, 5, 5, 3, 4, 1, 1, 1, 1, 1, 5, 5, 1, 5, 5, 1, 3, 2, 3, 4, 0, 5, 3, 1,\n",
      "        1, 5, 5, 1, 5, 3, 5, 4, 4, 2, 2, 5, 5, 5, 1, 1, 5, 5, 0, 4, 4, 5, 0, 1,\n",
      "        5, 5, 0, 5, 5, 5, 5, 5, 4, 5, 1, 1, 1, 5, 1, 1])\n",
      "---------------o0o----------------\n",
      "Predicted:  tensor([5, 1, 1, 3, 1, 5, 0, 5, 5, 5, 5, 5, 5, 5, 5, 5, 2, 0, 2, 5, 5, 5, 0, 1,\n",
      "        5, 0, 1, 1, 2, 5, 1, 5, 5, 2, 5, 5, 5, 5, 5, 1, 5, 1, 5, 0, 5, 5, 5, 1,\n",
      "        1, 5, 1, 1, 1, 1, 5, 5, 5, 1, 1, 1, 1, 5, 1, 3])\n",
      "Labels:  tensor([5, 1, 1, 2, 1, 5, 0, 5, 5, 4, 5, 5, 5, 5, 5, 5, 2, 0, 2, 5, 5, 5, 1, 1,\n",
      "        5, 4, 1, 1, 2, 5, 1, 5, 5, 2, 5, 5, 5, 5, 5, 1, 5, 1, 4, 4, 5, 5, 4, 1,\n",
      "        1, 5, 1, 1, 1, 1, 0, 5, 4, 1, 1, 1, 1, 5, 1, 2])\n",
      "---------------o0o----------------\n",
      "Predicted:  tensor([0, 5, 5, 1, 1, 5, 5, 5, 1, 5, 5, 3, 1, 5, 5, 3, 3, 5, 1, 0, 5, 0, 0, 5,\n",
      "        5, 5, 0, 5, 1, 2, 5, 0, 5, 1, 0, 5, 5, 0, 0, 1, 0, 5, 1, 0, 0, 2, 0, 1,\n",
      "        5, 3, 5, 5, 5, 5, 5, 5, 5, 1, 1, 5, 5, 1, 1, 1])\n",
      "Labels:  tensor([5, 5, 4, 1, 1, 5, 5, 5, 1, 5, 5, 3, 1, 1, 5, 2, 3, 5, 1, 0, 4, 4, 0, 4,\n",
      "        0, 5, 4, 4, 1, 2, 5, 4, 5, 1, 0, 0, 5, 0, 0, 1, 0, 4, 1, 4, 4, 2, 0, 1,\n",
      "        5, 3, 5, 5, 4, 5, 5, 5, 5, 1, 1, 5, 4, 1, 1, 1])\n",
      "---------------o0o----------------\n",
      "Predicted:  tensor([5, 3, 5, 5, 5, 1, 5, 2, 0, 5, 5, 5, 5, 5, 0, 1, 5, 5, 1, 0, 5, 5, 1, 5,\n",
      "        0, 5, 5, 1, 0, 5, 5, 1, 5, 5, 5, 5, 0, 5, 5, 5, 1, 1, 5, 1, 5, 5, 5, 5,\n",
      "        5, 5, 5, 1, 5, 5, 3, 3, 0, 1, 5, 5, 1, 5, 1, 1])\n",
      "Labels:  tensor([5, 3, 5, 5, 5, 1, 5, 2, 0, 5, 4, 5, 5, 5, 0, 1, 5, 5, 1, 4, 1, 4, 1, 4,\n",
      "        4, 5, 5, 1, 0, 5, 5, 1, 5, 5, 5, 0, 5, 5, 5, 5, 1, 1, 5, 1, 5, 5, 3, 4,\n",
      "        4, 5, 5, 1, 5, 4, 3, 4, 4, 1, 5, 5, 1, 5, 1, 1])\n",
      "---------------o0o----------------\n",
      "Predicted:  tensor([5, 5, 2, 5, 5, 0, 5, 5, 2, 3, 1, 2, 5, 5, 2, 1, 1, 5, 2, 5, 1, 5, 5, 0,\n",
      "        1, 1, 1, 5, 1, 1, 5, 1, 5, 1, 1, 0, 5, 1, 1, 1, 3, 5, 5, 5, 5, 5, 1, 5,\n",
      "        0, 5, 5, 5, 1, 1, 1, 5, 5, 0, 5, 5, 5, 5, 5, 5])\n",
      "Labels:  tensor([5, 5, 2, 5, 5, 0, 4, 5, 3, 3, 1, 2, 5, 5, 2, 1, 1, 5, 2, 5, 1, 5, 5, 4,\n",
      "        1, 1, 1, 5, 1, 1, 0, 1, 5, 1, 1, 0, 5, 1, 1, 1, 3, 5, 5, 5, 5, 5, 1, 5,\n",
      "        4, 4, 5, 5, 1, 1, 1, 5, 5, 0, 5, 4, 5, 5, 5, 5])\n",
      "---------------o0o----------------\n",
      "Predicted:  tensor([5, 5, 1, 5, 5, 5, 5, 5, 5, 5, 2, 5, 5, 3, 0, 1, 1, 5, 5, 1, 1, 2, 5, 0,\n",
      "        2, 1, 5, 5, 5, 1, 2, 5, 5, 1, 1, 0, 1, 1, 1, 5, 5, 1, 5, 1, 0, 1, 5, 2,\n",
      "        5, 2, 5, 3, 5, 1, 1, 1, 0, 5, 1, 1, 5, 5, 0, 0])\n",
      "Labels:  tensor([5, 5, 1, 5, 0, 5, 4, 5, 5, 4, 2, 0, 5, 3, 0, 1, 1, 4, 5, 1, 1, 2, 5, 0,\n",
      "        2, 1, 5, 5, 5, 1, 2, 5, 4, 1, 1, 0, 1, 1, 1, 5, 5, 1, 5, 1, 0, 1, 0, 2,\n",
      "        5, 2, 4, 2, 5, 1, 1, 1, 4, 4, 1, 1, 5, 5, 0, 0])\n",
      "---------------o0o----------------\n",
      "Predicted:  tensor([5, 1, 5, 1, 0, 5, 1, 1, 2, 5, 1, 5, 3, 5, 5, 3, 5, 1, 1, 5, 0, 1, 5, 5,\n",
      "        5, 0, 5, 1, 1, 5, 2, 5, 5, 0, 5, 1, 0, 5, 5, 1, 5, 5, 1, 5, 5, 5, 5, 1,\n",
      "        5, 1, 5, 1, 1, 3, 5, 1, 2, 5, 5, 5, 1, 5, 2, 5])\n",
      "Labels:  tensor([5, 1, 5, 1, 0, 5, 1, 1, 2, 5, 1, 5, 3, 5, 5, 2, 5, 1, 1, 5, 0, 1, 5, 5,\n",
      "        4, 0, 5, 1, 1, 4, 2, 5, 4, 0, 5, 1, 4, 5, 5, 1, 5, 5, 1, 5, 5, 5, 5, 1,\n",
      "        5, 1, 4, 1, 1, 3, 5, 1, 2, 5, 5, 5, 1, 5, 2, 5])\n",
      "---------------o0o----------------\n",
      "Predicted:  tensor([1, 5, 1, 5, 5, 2, 5, 5, 1, 5, 5, 5, 2, 5, 0, 5, 1, 1, 5, 1, 1, 5, 1, 2,\n",
      "        5, 5, 5, 5, 1, 1, 5, 2, 1, 5, 1, 1, 0, 5, 5, 2, 2, 1, 5, 2, 2, 1, 1, 1,\n",
      "        2, 1, 0, 5, 5, 5, 1, 1, 5, 0, 1, 1, 1, 5, 0, 5])\n",
      "Labels:  tensor([1, 0, 1, 5, 5, 2, 5, 5, 1, 5, 5, 0, 2, 5, 0, 5, 1, 1, 5, 1, 1, 4, 1, 2,\n",
      "        5, 5, 5, 4, 1, 1, 5, 2, 1, 5, 1, 1, 0, 5, 5, 2, 2, 1, 5, 2, 2, 1, 1, 1,\n",
      "        2, 1, 0, 5, 5, 5, 1, 1, 5, 4, 1, 1, 1, 5, 0, 5])\n",
      "---------------o0o----------------\n",
      "Predicted:  tensor([3, 5, 5, 2, 0, 1, 5, 3, 5, 5, 1, 5, 3, 5, 1, 5, 5, 0, 0, 1, 5, 5, 2, 1,\n",
      "        5, 2, 5, 0, 0, 0, 5, 5, 1, 1, 1, 5, 1, 5, 1, 5, 5, 1, 0, 5, 5, 1, 1, 5,\n",
      "        5, 1, 5, 5, 5, 5, 1, 2, 1, 0, 5, 5, 5, 5, 1, 5])\n",
      "Labels:  tensor([3, 4, 5, 3, 0, 1, 5, 3, 1, 4, 1, 0, 3, 5, 1, 5, 5, 4, 0, 1, 5, 5, 3, 1,\n",
      "        5, 2, 5, 0, 4, 0, 5, 5, 1, 1, 1, 5, 1, 5, 1, 5, 5, 1, 5, 5, 5, 1, 1, 5,\n",
      "        5, 1, 5, 5, 5, 5, 1, 2, 1, 0, 5, 4, 5, 1, 1, 5])\n",
      "---------------o0o----------------\n",
      "Predicted:  tensor([1, 5, 5, 0, 1, 3, 0, 1, 1, 1, 5, 5, 1, 5, 5, 5, 5, 5, 1, 5, 1, 0, 5, 5,\n",
      "        5, 1, 1, 3, 1, 1, 1, 5, 5, 5, 5, 5, 5, 5, 5, 1, 5, 5, 5, 0, 1, 5, 5, 5,\n",
      "        1, 5, 5, 5, 1, 5, 1, 3, 3, 1, 5, 1, 5, 1, 2, 5])\n",
      "Labels:  tensor([1, 5, 5, 4, 1, 3, 0, 1, 1, 1, 5, 5, 1, 0, 5, 5, 0, 5, 1, 5, 1, 5, 5, 5,\n",
      "        5, 1, 1, 3, 1, 1, 1, 5, 5, 4, 5, 5, 5, 4, 5, 1, 4, 5, 5, 0, 1, 5, 5, 5,\n",
      "        1, 5, 5, 3, 1, 5, 1, 3, 3, 1, 5, 1, 5, 1, 2, 5])\n",
      "---------------o0o----------------\n",
      "Predicted:  tensor([5, 5, 5, 0, 5, 5, 1, 0, 0, 5, 1, 1, 1, 5, 2, 5, 5, 2, 5, 5, 5, 2, 5, 5,\n",
      "        5, 5, 5, 1, 1, 1, 5, 5, 1, 5, 5, 0, 5, 0, 5, 1, 1, 1, 3, 0, 1, 0, 5, 3,\n",
      "        1, 5, 1, 1, 5, 5, 0, 5, 1, 5, 1, 1, 2, 5, 3, 5])\n",
      "Labels:  tensor([0, 5, 0, 0, 5, 5, 1, 0, 0, 5, 1, 1, 1, 5, 2, 5, 5, 2, 5, 5, 5, 2, 5, 1,\n",
      "        5, 5, 5, 1, 1, 1, 5, 5, 1, 5, 4, 0, 5, 4, 5, 1, 1, 1, 3, 4, 1, 0, 5, 3,\n",
      "        1, 4, 1, 1, 5, 5, 4, 5, 1, 5, 1, 1, 2, 5, 3, 5])\n",
      "---------------o0o----------------\n",
      "Predicted:  tensor([5, 5, 0, 5, 5, 1, 1, 5, 3, 1, 1, 5, 1, 5, 1, 5, 1, 1, 5, 1, 0, 1, 5, 1,\n",
      "        5, 5, 5, 5, 1, 1, 5, 5, 0, 1, 1, 5, 0, 1, 5, 5, 5, 5, 5, 0, 5, 5, 1, 5,\n",
      "        0, 5, 5, 1, 5, 1, 5, 5, 5, 5, 1, 5, 1, 5, 0, 1])\n",
      "Labels:  tensor([5, 5, 0, 5, 5, 1, 1, 5, 3, 1, 1, 4, 1, 5, 1, 4, 1, 1, 5, 1, 5, 1, 5, 1,\n",
      "        5, 5, 5, 5, 1, 1, 5, 5, 0, 1, 1, 5, 0, 1, 5, 5, 5, 5, 5, 0, 5, 5, 1, 5,\n",
      "        4, 5, 5, 1, 5, 1, 5, 5, 5, 5, 1, 5, 1, 5, 0, 1])\n",
      "---------------o0o----------------\n",
      "Predicted:  tensor([5, 3, 5, 5, 5, 0, 5, 5, 2, 5, 5, 5, 0, 0, 5, 5, 5, 1, 1, 1, 5, 5, 5, 1,\n",
      "        1, 2, 5, 5, 5, 2, 5, 1, 5, 5, 5, 5, 1, 5, 5, 5, 2, 1, 5, 5, 1, 5, 5, 5,\n",
      "        2, 5, 5, 0, 0, 5, 5, 5, 1, 1, 5, 1, 5, 1, 5, 5])\n",
      "Labels:  tensor([5, 3, 5, 5, 5, 0, 1, 5, 2, 5, 5, 5, 4, 5, 5, 0, 4, 1, 1, 1, 5, 4, 4, 1,\n",
      "        1, 2, 5, 4, 4, 2, 5, 1, 4, 5, 5, 5, 1, 5, 4, 4, 3, 1, 5, 5, 1, 5, 5, 5,\n"
     ]
    },
    {
     "name": "stdout",
     "output_type": "stream",
     "text": [
      "        2, 5, 5, 0, 0, 5, 5, 5, 1, 1, 5, 1, 5, 1, 5, 4])\n",
      "---------------o0o----------------\n",
      "Predicted:  tensor([5, 5, 5, 1, 5, 5, 1, 1, 1, 1, 1, 0, 1, 1, 5, 1, 1, 5, 0, 1])\n",
      "Labels:  tensor([5, 5, 5, 1, 0, 5, 1, 1, 1, 1, 1, 1, 1, 1, 5, 1, 1, 5, 4, 1])\n",
      "---------------o0o----------------\n",
      "Test Accuracy on the test set: 83.1511839708561 %\n"
     ]
    }
   ],
   "source": [
    "# Test the model\n",
    "model.eval()  # eval mode (batchnorm uses moving mean/variance instead of mini-batch mean/variance)\n",
    "with torch.no_grad():\n",
    "    correct = 0\n",
    "    total = 0\n",
    "    for images, labels in val_loader:\n",
    "        images = images.to(device)\n",
    "        labels = labels.to(device)\n",
    "        outputs = model(images)\n",
    "        _, predicted = torch.max(outputs.data, 1)\n",
    "        total += labels.size(0)\n",
    "        print(\"Predicted: \", predicted)\n",
    "        print(\"Labels: \", labels)\n",
    "        print(\"---------------o0o----------------\")\n",
    "        correct += (predicted == labels).sum().item()\n",
    "\n",
    "    print('Test Accuracy on the test set: {} %'.format(100 * correct / total))"
   ]
  },
  {
   "cell_type": "code",
   "execution_count": null,
   "metadata": {},
   "outputs": [],
   "source": []
  }
 ],
 "metadata": {
  "kernelspec": {
   "display_name": "Python 3",
   "language": "python",
   "name": "python3"
  },
  "language_info": {
   "codemirror_mode": {
    "name": "ipython",
    "version": 3
   },
   "file_extension": ".py",
   "mimetype": "text/x-python",
   "name": "python",
   "nbconvert_exporter": "python",
   "pygments_lexer": "ipython3",
   "version": "3.7.1"
  }
 },
 "nbformat": 4,
 "nbformat_minor": 2
}
