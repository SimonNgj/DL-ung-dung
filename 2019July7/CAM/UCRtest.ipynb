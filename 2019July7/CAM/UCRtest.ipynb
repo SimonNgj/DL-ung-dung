{
 "cells": [
  {
   "cell_type": "markdown",
   "metadata": {},
   "source": [
    "## A test with UCR dataset"
   ]
  },
  {
   "cell_type": "code",
   "execution_count": 1,
   "metadata": {},
   "outputs": [
    {
     "name": "stderr",
     "output_type": "stream",
     "text": [
      "Using TensorFlow backend.\n"
     ]
    }
   ],
   "source": [
    "import keras\n",
    "from keras.utils import to_categorical\n",
    "from keras.optimizers import Adam\n",
    "import sklearn\n",
    "from tslearn.datasets import UCR_UEA_datasets\n",
    "import matplotlib.pyplot as plt\n",
    "import numpy as np\n",
    "from sklearn.preprocessing import LabelEncoder\n",
    "from scipy.interpolate import spline\n",
    "import scipy.interpolate as interpolate\n",
    "from sklearn.utils import shuffle\n",
    "import random\n",
    "from sklearn.preprocessing import LabelEncoder\n",
    "from sklearn.metrics import classification_report\n",
    "from sklearn.metrics import confusion_matrix\n",
    "from keras.callbacks import ModelCheckpoint"
   ]
  },
  {
   "cell_type": "code",
   "execution_count": 2,
   "metadata": {},
   "outputs": [],
   "source": [
    "classifier = 'fcn'\n",
    "archive_name = 'TSC_itr_8'\n",
    "dataset_name = 'GunPoint'\n",
    "root_dir = 'C:/Users/xngu0004/Downloads/Code/testPy/dl-4-tsc'\n",
    "max_length = 2000"
   ]
  },
  {
   "cell_type": "code",
   "execution_count": 3,
   "metadata": {},
   "outputs": [],
   "source": [
    "x_train1, y_train1a, x_test1, y_test1a = UCR_UEA_datasets().load_dataset(dataset_name)"
   ]
  },
  {
   "cell_type": "code",
   "execution_count": 4,
   "metadata": {},
   "outputs": [],
   "source": [
    "y_train1 = y_train1a - 1\n",
    "y_test1 = y_test1a - 1"
   ]
  },
  {
   "cell_type": "code",
   "execution_count": 5,
   "metadata": {},
   "outputs": [],
   "source": [
    "x_test, y_test = shuffle(x_test1, y_test1, random_state = random.randint(10,50))"
   ]
  },
  {
   "cell_type": "code",
   "execution_count": 6,
   "metadata": {},
   "outputs": [],
   "source": [
    "x_train, y_train = shuffle(x_train1, y_train1, random_state = random.randint(10,50))"
   ]
  },
  {
   "cell_type": "code",
   "execution_count": 7,
   "metadata": {},
   "outputs": [
    {
     "data": {
      "text/plain": [
       "(50, 150, 1)"
      ]
     },
     "execution_count": 7,
     "metadata": {},
     "output_type": "execute_result"
    }
   ],
   "source": [
    "x_train.shape"
   ]
  },
  {
   "cell_type": "code",
   "execution_count": 8,
   "metadata": {},
   "outputs": [
    {
     "data": {
      "text/plain": [
       "array([0, 1, 1, 1, 1, 0, 0, 1, 0, 1, 1, 0, 1, 0, 1, 0, 1, 0, 1, 1, 1, 1,\n",
       "       0, 0, 0, 1, 0, 1, 1, 1, 1, 1, 1, 1, 1, 0, 0, 0, 0, 1, 1, 0, 0, 1,\n",
       "       0, 0, 0, 0, 1, 1, 0, 0, 1, 0, 0, 0, 0, 0, 1, 1, 0, 1, 1, 0, 0, 1,\n",
       "       1, 1, 1, 0, 1, 1, 0, 1, 1, 0, 1, 0, 1, 0, 1, 1, 1, 0, 0, 1, 0, 1,\n",
       "       0, 0, 1, 0, 0, 1, 1, 0, 1, 1, 1, 1, 1, 1, 0, 1, 0, 0, 1, 1, 1, 1,\n",
       "       1, 0, 0, 0, 0, 0, 0, 0, 0, 0, 0, 0, 0, 0, 1, 0, 1, 0, 1, 0, 1, 0,\n",
       "       0, 0, 1, 0, 1, 0, 0, 1, 1, 0, 1, 1, 0, 0, 0, 0, 1, 0])"
      ]
     },
     "execution_count": 8,
     "metadata": {},
     "output_type": "execute_result"
    }
   ],
   "source": [
    "y_test"
   ]
  },
  {
   "cell_type": "code",
   "execution_count": 9,
   "metadata": {},
   "outputs": [
    {
     "data": {
      "text/plain": [
       "(150, 1)"
      ]
     },
     "execution_count": 9,
     "metadata": {},
     "output_type": "execute_result"
    }
   ],
   "source": [
    "input_shape = x_train.shape[1:]\n",
    "input_shape"
   ]
  },
  {
   "cell_type": "code",
   "execution_count": 10,
   "metadata": {},
   "outputs": [
    {
     "data": {
      "text/plain": [
       "2"
      ]
     },
     "execution_count": 10,
     "metadata": {},
     "output_type": "execute_result"
    }
   ],
   "source": [
    "nb_classes = len(np.unique(y_train))\n",
    "nb_classes"
   ]
  },
  {
   "cell_type": "code",
   "execution_count": 11,
   "metadata": {},
   "outputs": [],
   "source": [
    "def build_model(input_shape, nb_classes):\n",
    "\tinput_layer = keras.layers.Input(input_shape)\n",
    "\n",
    "\tconv1 = keras.layers.Conv1D(filters=64, kernel_size=7, padding='same')(input_layer)\n",
    "\tconv1 = keras.layers.normalization.BatchNormalization()(conv1)\n",
    "\tconv1 = keras.layers.Activation(activation='relu')(conv1)\n",
    "\n",
    "\tconv2 = keras.layers.Conv1D(filters=128, kernel_size=5, padding='same')(conv1)\n",
    "\tconv2 = keras.layers.normalization.BatchNormalization()(conv2)\n",
    "\tconv2 = keras.layers.Activation('relu')(conv2)\n",
    "\n",
    "\tconv3 = keras.layers.Conv1D(64, kernel_size=3,padding='same')(conv2)\n",
    "\tconv3 = keras.layers.normalization.BatchNormalization()(conv3)\n",
    "\tconv3 = keras.layers.Activation('relu')(conv3)\n",
    "\n",
    "\tgap_layer = keras.layers.pooling.GlobalAveragePooling1D()(conv3)\n",
    "\n",
    "\toutput_layer = keras.layers.Dense(nb_classes, activation='softmax')(gap_layer)\n",
    "\n",
    "\tmodel = keras.models.Model(inputs=input_layer, outputs=output_layer);model.summary()\n",
    "    \n",
    "\treturn model "
   ]
  },
  {
   "cell_type": "code",
   "execution_count": 12,
   "metadata": {},
   "outputs": [],
   "source": [
    "# One-hot coding\n",
    "labels_train = to_categorical(y_train)\n",
    "labels_test = to_categorical(y_test)"
   ]
  },
  {
   "cell_type": "code",
   "execution_count": 13,
   "metadata": {},
   "outputs": [],
   "source": [
    "weight_fn = \"./weights1=2.h5\"\n",
    "model_checkpoint = ModelCheckpoint(weight_fn, verbose=1, mode='max', monitor='val_acc', \n",
    "                                   save_best_only=True, save_weights_only=True)\n",
    "callback_list = [model_checkpoint]"
   ]
  },
  {
   "cell_type": "code",
   "execution_count": 54,
   "metadata": {},
   "outputs": [
    {
     "name": "stdout",
     "output_type": "stream",
     "text": [
      "_________________________________________________________________\n",
      "Layer (type)                 Output Shape              Param #   \n",
      "=================================================================\n",
      "input_3 (InputLayer)         (None, 150, 1)            0         \n",
      "_________________________________________________________________\n",
      "conv1d_7 (Conv1D)            (None, 150, 64)           512       \n",
      "_________________________________________________________________\n",
      "batch_normalization_7 (Batch (None, 150, 64)           256       \n",
      "_________________________________________________________________\n",
      "activation_7 (Activation)    (None, 150, 64)           0         \n",
      "_________________________________________________________________\n",
      "conv1d_8 (Conv1D)            (None, 150, 128)          41088     \n",
      "_________________________________________________________________\n",
      "batch_normalization_8 (Batch (None, 150, 128)          512       \n",
      "_________________________________________________________________\n",
      "activation_8 (Activation)    (None, 150, 128)          0         \n",
      "_________________________________________________________________\n",
      "conv1d_9 (Conv1D)            (None, 150, 64)           24640     \n",
      "_________________________________________________________________\n",
      "batch_normalization_9 (Batch (None, 150, 64)           256       \n",
      "_________________________________________________________________\n",
      "activation_9 (Activation)    (None, 150, 64)           0         \n",
      "_________________________________________________________________\n",
      "global_average_pooling1d_3 ( (None, 64)                0         \n",
      "_________________________________________________________________\n",
      "dense_3 (Dense)              (None, 2)                 130       \n",
      "=================================================================\n",
      "Total params: 67,394\n",
      "Trainable params: 66,882\n",
      "Non-trainable params: 512\n",
      "_________________________________________________________________\n"
     ]
    }
   ],
   "source": [
    "model = build_model(input_shape, nb_classes)\n",
    "epochs_s = 25\n",
    "batch_s = 4\n",
    "learning_rate = 1e-3 \n",
    "optm = Adam(lr=learning_rate)\n",
    "model.compile(optimizer=optm, loss='categorical_crossentropy', metrics=['accuracy'])"
   ]
  },
  {
   "cell_type": "code",
   "execution_count": 55,
   "metadata": {},
   "outputs": [
    {
     "name": "stdout",
     "output_type": "stream",
     "text": [
      "Train on 50 samples, validate on 150 samples\n",
      "Epoch 1/25\n",
      " - 1s - loss: 0.7159 - acc: 0.5000 - val_loss: 0.6806 - val_acc: 0.5600\n",
      "\n",
      "Epoch 00001: val_acc did not improve from 0.76000\n",
      "Epoch 2/25\n",
      " - 0s - loss: 0.6197 - acc: 0.6200 - val_loss: 0.6359 - val_acc: 0.6267\n",
      "\n",
      "Epoch 00002: val_acc did not improve from 0.76000\n",
      "Epoch 3/25\n",
      " - 0s - loss: 0.5803 - acc: 0.7200 - val_loss: 0.7198 - val_acc: 0.5667\n",
      "\n",
      "Epoch 00003: val_acc did not improve from 0.76000\n",
      "Epoch 4/25\n",
      " - 0s - loss: 0.5509 - acc: 0.7600 - val_loss: 0.6369 - val_acc: 0.6467\n",
      "\n",
      "Epoch 00004: val_acc did not improve from 0.76000\n",
      "Epoch 5/25\n",
      " - 0s - loss: 0.5754 - acc: 0.7200 - val_loss: 0.5824 - val_acc: 0.6733\n",
      "\n",
      "Epoch 00005: val_acc did not improve from 0.76000\n",
      "Epoch 6/25\n",
      " - 0s - loss: 0.5423 - acc: 0.7000 - val_loss: 0.5454 - val_acc: 0.7933\n",
      "\n",
      "Epoch 00006: val_acc improved from 0.76000 to 0.79333, saving model to ./weights1=2.h5\n",
      "Epoch 7/25\n",
      " - 0s - loss: 0.4573 - acc: 0.8600 - val_loss: 0.5270 - val_acc: 0.7933\n",
      "\n",
      "Epoch 00007: val_acc did not improve from 0.79333\n",
      "Epoch 8/25\n",
      " - 0s - loss: 0.5162 - acc: 0.7800 - val_loss: 0.5703 - val_acc: 0.6200\n",
      "\n",
      "Epoch 00008: val_acc did not improve from 0.79333\n",
      "Epoch 9/25\n",
      " - 0s - loss: 0.5791 - acc: 0.6200 - val_loss: 0.5549 - val_acc: 0.7267\n",
      "\n",
      "Epoch 00009: val_acc did not improve from 0.79333\n",
      "Epoch 10/25\n",
      " - 0s - loss: 0.4829 - acc: 0.8000 - val_loss: 0.5343 - val_acc: 0.7400\n",
      "\n",
      "Epoch 00010: val_acc did not improve from 0.79333\n",
      "Epoch 11/25\n",
      " - 0s - loss: 0.4992 - acc: 0.7800 - val_loss: 0.6769 - val_acc: 0.5733\n",
      "\n",
      "Epoch 00011: val_acc did not improve from 0.79333\n",
      "Epoch 12/25\n",
      " - 0s - loss: 0.5144 - acc: 0.7200 - val_loss: 0.5460 - val_acc: 0.7067\n",
      "\n",
      "Epoch 00012: val_acc did not improve from 0.79333\n",
      "Epoch 13/25\n",
      " - 0s - loss: 0.4871 - acc: 0.8400 - val_loss: 0.4909 - val_acc: 0.8200\n",
      "\n",
      "Epoch 00013: val_acc improved from 0.79333 to 0.82000, saving model to ./weights1=2.h5\n",
      "Epoch 14/25\n",
      " - 0s - loss: 0.4488 - acc: 0.7600 - val_loss: 0.5316 - val_acc: 0.7200\n",
      "\n",
      "Epoch 00014: val_acc did not improve from 0.82000\n",
      "Epoch 15/25\n",
      " - 0s - loss: 0.4498 - acc: 0.8200 - val_loss: 0.5800 - val_acc: 0.6733\n",
      "\n",
      "Epoch 00015: val_acc did not improve from 0.82000\n",
      "Epoch 16/25\n",
      " - 0s - loss: 0.4062 - acc: 0.8600 - val_loss: 0.4885 - val_acc: 0.7600\n",
      "\n",
      "Epoch 00016: val_acc did not improve from 0.82000\n",
      "Epoch 17/25\n",
      " - 0s - loss: 0.3973 - acc: 0.8400 - val_loss: 0.5399 - val_acc: 0.7067\n",
      "\n",
      "Epoch 00017: val_acc did not improve from 0.82000\n",
      "Epoch 18/25\n",
      " - 0s - loss: 0.3143 - acc: 0.9400 - val_loss: 0.4944 - val_acc: 0.6667\n",
      "\n",
      "Epoch 00018: val_acc did not improve from 0.82000\n",
      "Epoch 19/25\n",
      " - 0s - loss: 0.3236 - acc: 0.8800 - val_loss: 0.4317 - val_acc: 0.8800\n",
      "\n",
      "Epoch 00019: val_acc improved from 0.82000 to 0.88000, saving model to ./weights1=2.h5\n",
      "Epoch 20/25\n",
      " - 0s - loss: 0.3876 - acc: 0.8200 - val_loss: 0.4021 - val_acc: 0.8933\n",
      "\n",
      "Epoch 00020: val_acc improved from 0.88000 to 0.89333, saving model to ./weights1=2.h5\n",
      "Epoch 21/25\n",
      " - 0s - loss: 0.3908 - acc: 0.8400 - val_loss: 0.4040 - val_acc: 0.9467\n",
      "\n",
      "Epoch 00021: val_acc improved from 0.89333 to 0.94667, saving model to ./weights1=2.h5\n",
      "Epoch 22/25\n",
      " - 0s - loss: 0.4830 - acc: 0.8000 - val_loss: 0.9241 - val_acc: 0.4933\n",
      "\n",
      "Epoch 00022: val_acc did not improve from 0.94667\n",
      "Epoch 23/25\n",
      " - 0s - loss: 0.4423 - acc: 0.8600 - val_loss: 0.3992 - val_acc: 0.9533\n",
      "\n",
      "Epoch 00023: val_acc improved from 0.94667 to 0.95333, saving model to ./weights1=2.h5\n",
      "Epoch 24/25\n",
      " - 0s - loss: 0.4027 - acc: 0.9200 - val_loss: 0.5758 - val_acc: 0.5333\n",
      "\n",
      "Epoch 00024: val_acc did not improve from 0.95333\n",
      "Epoch 25/25\n",
      " - 0s - loss: 0.4661 - acc: 0.8400 - val_loss: 0.6294 - val_acc: 0.5133\n",
      "\n",
      "Epoch 00025: val_acc did not improve from 0.95333\n"
     ]
    },
    {
     "data": {
      "text/plain": [
       "<keras.callbacks.History at 0x1ec01e7d898>"
      ]
     },
     "execution_count": 55,
     "metadata": {},
     "output_type": "execute_result"
    }
   ],
   "source": [
    "model.fit(x_train, labels_train, batch_size=batch_s, epochs=epochs_s, \n",
    "          callbacks = callback_list, verbose=2, \n",
    "          validation_data=(x_test, labels_test))"
   ]
  },
  {
   "cell_type": "code",
   "execution_count": 60,
   "metadata": {},
   "outputs": [],
   "source": [
    "model.load_weights(weight_fn)\n",
    "prediction = model.predict(x_test);"
   ]
  },
  {
   "cell_type": "code",
   "execution_count": 61,
   "metadata": {},
   "outputs": [
    {
     "data": {
      "text/plain": [
       "array([0, 1, 1, 1, 1, 0, 0, 1, 0, 1, 1, 0, 1, 0, 1, 0, 0, 0, 1, 1, 1, 1,\n",
       "       0, 0, 0, 1, 0, 1, 1, 1, 1, 1, 1, 1, 0, 1, 0, 0, 0, 1, 1, 0, 0, 1,\n",
       "       0, 0, 0, 0, 1, 1, 0, 0, 1, 0, 0, 0, 0, 0, 1, 1, 0, 1, 1, 1, 0, 1,\n",
       "       1, 1, 1, 0, 1, 1, 0, 1, 1, 0, 1, 0, 0, 0, 1, 1, 1, 0, 0, 1, 0, 1,\n",
       "       0, 0, 1, 0, 0, 1, 0, 0, 1, 1, 1, 1, 1, 1, 0, 1, 0, 0, 1, 1, 1, 1,\n",
       "       1, 0, 0, 0, 0, 0, 0, 0, 1, 0, 0, 0, 0, 0, 1, 0, 1, 0, 1, 0, 1, 0,\n",
       "       0, 0, 1, 0, 1, 0, 0, 1, 1, 0, 1, 1, 0, 0, 0, 0, 1, 0], dtype=int64)"
      ]
     },
     "execution_count": 61,
     "metadata": {},
     "output_type": "execute_result"
    }
   ],
   "source": [
    "y_pred = np.argmax(prediction, axis=1)\n",
    "y_pred"
   ]
  },
  {
   "cell_type": "code",
   "execution_count": 62,
   "metadata": {},
   "outputs": [
    {
     "name": "stdout",
     "output_type": "stream",
     "text": [
      "              precision    recall  f1-score   support\n",
      "\n",
      "           0       0.95      0.96      0.95        76\n",
      "           1       0.96      0.95      0.95        74\n",
      "\n",
      "   micro avg       0.95      0.95      0.95       150\n",
      "   macro avg       0.95      0.95      0.95       150\n",
      "weighted avg       0.95      0.95      0.95       150\n",
      "\n"
     ]
    }
   ],
   "source": [
    "cr = classification_report(y_test, y_pred)\n",
    "print(cr)"
   ]
  },
  {
   "cell_type": "code",
   "execution_count": 63,
   "metadata": {},
   "outputs": [
    {
     "name": "stdout",
     "output_type": "stream",
     "text": [
      "[[73  3]\n",
      " [ 4 70]]\n"
     ]
    }
   ],
   "source": [
    "cm = confusion_matrix(y_test, y_pred)\n",
    "print(cm)"
   ]
  },
  {
   "cell_type": "code",
   "execution_count": 64,
   "metadata": {},
   "outputs": [
    {
     "data": {
      "text/plain": [
       "array([0, 1])"
      ]
     },
     "execution_count": 64,
     "metadata": {},
     "output_type": "execute_result"
    }
   ],
   "source": [
    "classes = np.unique(y_test)\n",
    "classes"
   ]
  },
  {
   "cell_type": "code",
   "execution_count": 65,
   "metadata": {},
   "outputs": [
    {
     "data": {
      "text/plain": [
       "(64, 2)"
      ]
     },
     "execution_count": 65,
     "metadata": {},
     "output_type": "execute_result"
    }
   ],
   "source": [
    "# the same input\n",
    "new_input_layer = model.inputs\n",
    "# output is both the original as well as the before last layer\n",
    "new_output_layer = [model.layers[-3].output, model.layers[-1].output]\n",
    "\n",
    "new_feed_forward = keras.backend.function(new_input_layer, new_output_layer)\n",
    "\n",
    "# filters\n",
    "w_k_c = model.layers[-1].get_weights()[0] #  weights for each filter k for each class c\n",
    "w_k_c.shape"
   ]
  },
  {
   "cell_type": "markdown",
   "metadata": {},
   "source": [
    "### Using spline "
   ]
  },
  {
   "cell_type": "code",
   "execution_count": 48,
   "metadata": {
    "scrolled": true
   },
   "outputs": [
    {
     "name": "stdout",
     "output_type": "stream",
     "text": [
      "c =  0\n"
     ]
    },
    {
     "name": "stderr",
     "output_type": "stream",
     "text": [
      "C:\\Users\\xngu0004\\Anaconda3\\lib\\site-packages\\ipykernel_launcher.py:28: DeprecationWarning: `spline` is deprecated!\n",
      "spline is deprecated in scipy 0.19.0, use Bspline class instead.\n",
      "C:\\Users\\xngu0004\\Anaconda3\\lib\\site-packages\\ipykernel_launcher.py:29: DeprecationWarning: `spline` is deprecated!\n",
      "spline is deprecated in scipy 0.19.0, use Bspline class instead.\n"
     ]
    },
    {
     "data": {
      "image/png": "[encoded data removed]",
      "text/plain": [
       "<Figure size 432x288 with 2 Axes>"
      ]
     },
     "metadata": {
      "needs_background": "light"
     },
     "output_type": "display_data"
    },
    {
     "name": "stdout",
     "output_type": "stream",
     "text": [
      "c =  1\n"
     ]
    },
    {
     "data": {
      "image/png": "[encoded data removed]",
      "text/plain": [
       "<Figure size 432x288 with 2 Axes>"
      ]
     },
     "metadata": {
      "needs_background": "light"
     },
     "output_type": "display_data"
    }
   ],
   "source": [
    "for c in classes:\n",
    "    print(\"c = \", c)\n",
    "    plt.figure()\n",
    "    count = 0\n",
    "    count1 = 0\n",
    "    c_x_train = x_train[np.where(y_train==c)]\n",
    "    for ts in c_x_train:\n",
    "        count1 += 1       \n",
    "        ts = ts.reshape(1,-1,1)\n",
    "        [conv_out, predicted] = new_feed_forward([ts])\n",
    "        pred_label = np.argmax(predicted)\n",
    "        if pred_label == c:\n",
    "            count += 1\n",
    "            if (count < 3):\n",
    "                cas = np.zeros(dtype=np.float, shape=(conv_out.shape[1]))\n",
    "                for k, w in enumerate(w_k_c[:, c]):\n",
    "                    cas += w * conv_out[0,:, k]\n",
    "\n",
    "                minimum = np.min(cas)\n",
    "                cas = cas - minimum\n",
    "                cas = cas / max(cas)\n",
    "                cas = cas * 100\n",
    "\n",
    "                x = np.linspace(0,ts.shape[1]-1,max_length,endpoint=True)\n",
    "                # linear interpolation to smooth\n",
    "                y = spline(range(ts.shape[1]),ts[0,:,0],x)\n",
    "                cas = spline(range(ts.shape[1]),cas,x)\n",
    "                cas = cas.astype(int)\n",
    "                plt.scatter(x=x,y=y,c=cas,cmap='jet', marker='.',s=1,vmin=0,vmax = 100)         \n",
    "\n",
    "    cbar = plt.colorbar()\n",
    "    #cbar.ax.set_yticklabels([100,75,50,25,0])\n",
    "    plt.show()\n",
    "    #plt.savefig(root_dir+'/results/'+classifier+'/'+archive_name+'/'+dataset_name+'/'+str(int(c))+'.png',\n",
    "                #bbox_inches='tight',dpi=1080)"
   ]
  },
  {
   "cell_type": "markdown",
   "metadata": {},
   "source": [
    "### Using Bspline class "
   ]
  },
  {
   "cell_type": "code",
   "execution_count": 66,
   "metadata": {},
   "outputs": [
    {
     "name": "stdout",
     "output_type": "stream",
     "text": [
      "c =  0\n"
     ]
    },
    {
     "data": {
      "image/png": "[encoded data removed]",
      "text/plain": [
       "<Figure size 432x288 with 2 Axes>"
      ]
     },
     "metadata": {
      "needs_background": "light"
     },
     "output_type": "display_data"
    },
    {
     "name": "stdout",
     "output_type": "stream",
     "text": [
      "c =  1\n"
     ]
    },
    {
     "data": {
      "image/png": "[encoded data removed]",
      "text/plain": [
       "<Figure size 432x288 with 2 Axes>"
      ]
     },
     "metadata": {
      "needs_background": "light"
     },
     "output_type": "display_data"
    }
   ],
   "source": [
    "for c in classes:\n",
    "    print(\"c = \", c)\n",
    "    plt.figure()\n",
    "    count = 0\n",
    "    count1 = 0\n",
    "    c_x_train = x_test[np.where(y_test==c)]\n",
    "    for ts in c_x_train:\n",
    "        count1 += 1 \n",
    "        ts = ts.reshape(1,-1,1)\n",
    "        [conv_out, predicted] = new_feed_forward([ts])\n",
    "        pred_label = np.argmax(predicted)\n",
    "        if pred_label == c:\n",
    "            count += 1\n",
    "            if (count < 22):\n",
    "                cas = np.zeros(dtype=np.float, shape=(conv_out.shape[1]))\n",
    "                for k, w in enumerate(w_k_c[:, c]):\n",
    "                    cas += w * conv_out[0,:, k]\n",
    "\n",
    "                minimum = np.min(cas)\n",
    "                cas = cas - minimum\n",
    "                cas = cas / max(cas)\n",
    "                cas = cas * 100\n",
    "\n",
    "                xx = np.linspace(0,ts.shape[1]-1,ts.shape[1],endpoint=True)\n",
    "                yy = ts.reshape(-1)\n",
    "                t, cc, k = interpolate.splrep(xx, yy, s=0, k=5)\n",
    "                t1, cc1, k1 = interpolate.splrep(xx, cas, s=0, k=5)\n",
    "                x = np.linspace(0,ts.shape[1]-1,max_length,endpoint=True)\n",
    "\n",
    "                y = interpolate.BSpline(t, cc, k, extrapolate=False)\n",
    "                cas = interpolate.BSpline(t1, cc1, k1, extrapolate=False)\n",
    "\n",
    "                plt.scatter(x=x,y=y(x),c=cas(x).astype(int),cmap='jet', marker='.',s=1,vmin=0,vmax = 100) \n",
    "\n",
    "    cbar = plt.colorbar()\n",
    "    plt.show()\n",
    "    #plt.savefig(root_dir+'/results/'+classifier+'/'+archive_name+'/'+dataset_name+'/'+str(int(c))+'.png',\n",
    "                #bbox_inches='tight',dpi=1080)"
   ]
  },
  {
   "cell_type": "markdown",
   "metadata": {},
   "source": [
    "#### Others "
   ]
  },
  {
   "cell_type": "code",
   "execution_count": 92,
   "metadata": {},
   "outputs": [
    {
     "name": "stdout",
     "output_type": "stream",
     "text": [
      "t: [0.   0.   0.   0.   0.   2.55 3.6  6.5  6.5  6.5  6.5  6.5 ]\n",
      "c: [-8.54962435e-17  3.30461215e+00  4.99503539e-01  9.09707830e+00\n",
      " -1.06110196e+00  9.32088484e-01  3.10000000e+00  0.00000000e+00\n",
      "  0.00000000e+00  0.00000000e+00  0.00000000e+00  0.00000000e+00]\n",
      "k: 4\n",
      "\n"
     ]
    },
    {
     "data": {
      "image/png": "[encoded data removed]",
      "text/plain": [
       "<Figure size 432x288 with 1 Axes>"
      ]
     },
     "metadata": {
      "needs_background": "light"
     },
     "output_type": "display_data"
    }
   ],
   "source": [
    "import numpy as np\n",
    "import scipy.interpolate as interpolate\n",
    "import matplotlib.pyplot as plt\n",
    "\n",
    "x = np.array([ 0. ,  1.2,  1.9,  3.2,  4. , 5., 6.5])\n",
    "y = np.array([ 0. ,  2.3,  3. ,  4.3,  2.9, 1.1,  3.1])\n",
    "\n",
    "t, c, k = interpolate.splrep(x, y, s=0, k=4)\n",
    "print('''\\\n",
    "t: {}\n",
    "c: {}\n",
    "k: {}\n",
    "'''.format(t, c, k))\n",
    "N = 40\n",
    "xmin, xmax = x.min(), x.max()\n",
    "xx = np.linspace(xmin, xmax, N)\n",
    "spline = interpolate.BSpline(t, c, k, extrapolate=False)\n",
    "\n",
    "plt.plot(x, y, 'bo', label='Original points')\n",
    "#plt.plot(xx, spline(xx), 'r', label='BSpline')\n",
    "plt.scatter(x=xx,y=spline(xx),cmap='jet', marker='.',s=10,vmin=0,vmax = 100)\n",
    "plt.grid()\n",
    "plt.legend(loc='best')\n",
    "plt.show()"
   ]
  },
  {
   "cell_type": "code",
   "execution_count": 72,
   "metadata": {},
   "outputs": [
    {
     "data": {
      "text/plain": [
       "(30,)"
      ]
     },
     "execution_count": 72,
     "metadata": {},
     "output_type": "execute_result"
    }
   ],
   "source": [
    "xx.shape"
   ]
  },
  {
   "cell_type": "code",
   "execution_count": 93,
   "metadata": {},
   "outputs": [
    {
     "data": {
      "text/plain": [
       "(150, 1)"
      ]
     },
     "execution_count": 93,
     "metadata": {},
     "output_type": "execute_result"
    }
   ],
   "source": [
    "tt = x_train[0]\n",
    "tt.shape"
   ]
  },
  {
   "cell_type": "code",
   "execution_count": 97,
   "metadata": {},
   "outputs": [
    {
     "data": {
      "text/plain": [
       "array([  0.,   1.,   2.,   3.,   4.,   5.,   6.,   7.,   8.,   9.,  10.,\n",
       "        11.,  12.,  13.,  14.,  15.,  16.,  17.,  18.,  19.,  20.,  21.,\n",
       "        22.,  23.,  24.,  25.,  26.,  27.,  28.,  29.,  30.,  31.,  32.,\n",
       "        33.,  34.,  35.,  36.,  37.,  38.,  39.,  40.,  41.,  42.,  43.,\n",
       "        44.,  45.,  46.,  47.,  48.,  49.,  50.,  51.,  52.,  53.,  54.,\n",
       "        55.,  56.,  57.,  58.,  59.,  60.,  61.,  62.,  63.,  64.,  65.,\n",
       "        66.,  67.,  68.,  69.,  70.,  71.,  72.,  73.,  74.,  75.,  76.,\n",
       "        77.,  78.,  79.,  80.,  81.,  82.,  83.,  84.,  85.,  86.,  87.,\n",
       "        88.,  89.,  90.,  91.,  92.,  93.,  94.,  95.,  96.,  97.,  98.,\n",
       "        99., 100., 101., 102., 103., 104., 105., 106., 107., 108., 109.,\n",
       "       110., 111., 112., 113., 114., 115., 116., 117., 118., 119., 120.,\n",
       "       121., 122., 123., 124., 125., 126., 127., 128., 129., 130., 131.,\n",
       "       132., 133., 134., 135., 136., 137., 138., 139., 140., 141., 142.,\n",
       "       143., 144., 145., 146., 147., 148., 149.])"
      ]
     },
     "execution_count": 97,
     "metadata": {},
     "output_type": "execute_result"
    }
   ],
   "source": [
    "x1 = np.linspace(0,tt.shape[1]-1,tt.shape[0],endpoint=True)\n",
    "x1"
   ]
  },
  {
   "cell_type": "code",
   "execution_count": null,
   "metadata": {},
   "outputs": [],
   "source": [
    "x1 = np.linspace(0,ts.shape[1]-1,max_length,endpoint=True)"
   ]
  }
 ],
 "metadata": {
  "kernelspec": {
   "display_name": "Python 3",
   "language": "python",
   "name": "python3"
  },
  "language_info": {
   "codemirror_mode": {
    "name": "ipython",
    "version": 3
   },
   "file_extension": ".py",
   "mimetype": "text/x-python",
   "name": "python",
   "nbconvert_exporter": "python",
   "pygments_lexer": "ipython3",
   "version": "3.7.1"
  }
 },
 "nbformat": 4,
 "nbformat_minor": 2
}
